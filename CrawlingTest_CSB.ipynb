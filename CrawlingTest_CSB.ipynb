{
 "cells": [
  {
   "cell_type": "markdown",
   "id": "4fb7194e",
   "metadata": {},
   "source": [
    "## Question1"
   ]
  },
  {
   "cell_type": "markdown",
   "id": "edf142ca",
   "metadata": {},
   "source": [
    "##### 문제1"
   ]
  },
  {
   "cell_type": "markdown",
   "id": "9c94cb40",
   "metadata": {},
   "source": [
    "1. a.로그수집\n",
    "2. f.크롤링\n",
    "3. g.빅데이터수집\n",
    "4. h.센서수집"
   ]
  },
  {
   "cell_type": "markdown",
   "id": "4d501682",
   "metadata": {},
   "source": [
    "##### 문제2"
   ]
  },
  {
   "cell_type": "markdown",
   "id": "0f3ff3af",
   "metadata": {},
   "source": [
    "크롤링이란 Web 상에 존재하는 Contents를 수집하는 일련의 과정을 뜻한다.\n",
    "전세계의 연간 데이터 총량은 2023년에 110ZB이고 2025년에는 175ZB로 예상되는 등 \n",
    "데이터의 양이 너무 많으므로 크롤링을 통해 Contents를 수집하는 것이 효율적이다."
   ]
  },
  {
   "cell_type": "markdown",
   "id": "78b21e86",
   "metadata": {},
   "source": [
    "##### 문제3"
   ]
  },
  {
   "cell_type": "markdown",
   "id": "438ec137",
   "metadata": {},
   "source": [
    "BeautifulSoup 라이브러리는 html문서에서 원하는 데이터를 추출하기 쉽게 해주는 라이브러리이다. \n",
    "from bs4 import BeautifulSoup as bs\n",
    "-> 컴퓨터가 이해할 수 있는 파이썬 객체 형태로 변환해주는 라이브러리이다.\n",
    "\n",
    "html 문서를 불러오면 보기가 힘드므로, 정리해주는 모듈이다. \n",
    "bs(parsing(해석)할 html, 'parsing할 방법')의 형식으로 객체화를 시켜준다."
   ]
  },
  {
   "cell_type": "markdown",
   "id": "918aaadd",
   "metadata": {},
   "source": [
    "##### 문제4"
   ]
  },
  {
   "cell_type": "markdown",
   "id": "89746285",
   "metadata": {},
   "source": [
    "①은 찾는 태그가 단 하나만 존재할 때 사용한다.\n",
    "②는 복수의 태그를 찾을 때 사용한다."
   ]
  },
  {
   "cell_type": "markdown",
   "id": "3add76bb",
   "metadata": {},
   "source": [
    "##### 문제5"
   ]
  },
  {
   "cell_type": "markdown",
   "id": "8ff47f40",
   "metadata": {},
   "source": [
    "soup.select('#this_span').text"
   ]
  },
  {
   "cell_type": "markdown",
   "id": "02ce85ca",
   "metadata": {},
   "source": [
    "## Question2"
   ]
  },
  {
   "cell_type": "code",
   "execution_count": 77,
   "id": "de9eaaea",
   "metadata": {},
   "outputs": [],
   "source": [
    "from selenium import webdriver as wb\n",
    "from selenium.webdriver.common.keys import Keys\n",
    "from selenium.webdriver.common.by import By\n",
    "from bs4 import BeautifulSoup as bs"
   ]
  },
  {
   "cell_type": "code",
   "execution_count": 78,
   "id": "2a81ac4d",
   "metadata": {},
   "outputs": [],
   "source": [
    "from selenium.webdriver.chrome.service import Service\n",
    "from webdriver_manager.chrome import ChromeDriverManager"
   ]
  },
  {
   "cell_type": "code",
   "execution_count": 79,
   "id": "ed552fd9",
   "metadata": {},
   "outputs": [],
   "source": [
    "s = Service(ChromeDriverManager().install())\n",
    "driver = wb.Chrome(service = s)\n",
    "driver.get('http://www.naver.com')"
   ]
  },
  {
   "cell_type": "code",
   "execution_count": 80,
   "id": "04660a4e",
   "metadata": {},
   "outputs": [],
   "source": [
    "search = driver.find_element(By.ID,'query')\n",
    "search.send_keys('크롤링')"
   ]
  },
  {
   "cell_type": "code",
   "execution_count": 81,
   "id": "86c7103d",
   "metadata": {},
   "outputs": [],
   "source": [
    "btn = driver.find_element(By.ID, 'search-btn')\n",
    "btn.click()"
   ]
  },
  {
   "cell_type": "code",
   "execution_count": 82,
   "id": "2e6a2a3b",
   "metadata": {},
   "outputs": [],
   "source": [
    "driver.quit()"
   ]
  },
  {
   "cell_type": "markdown",
   "id": "9defd75e",
   "metadata": {},
   "source": [
    "## Question3"
   ]
  },
  {
   "cell_type": "code",
   "execution_count": 13,
   "id": "a9aa94d5",
   "metadata": {},
   "outputs": [],
   "source": [
    "from selenium import webdriver as wb\n",
    "from selenium.webdriver.common.keys import Keys\n",
    "from selenium.webdriver.common.by import By\n",
    "from bs4 import BeautifulSoup as bs\n",
    "\n",
    "from selenium.webdriver.chrome.service import Service\n",
    "from webdriver_manager.chrome import ChromeDriverManager"
   ]
  },
  {
   "cell_type": "code",
   "execution_count": 83,
   "id": "a473de2c",
   "metadata": {},
   "outputs": [],
   "source": [
    "s = Service(ChromeDriverManager().install())\n",
    "driver = wb.Chrome(service = s)\n",
    "driver.get('https://www.gmarket.co.kr/n/best')\n",
    "\n",
    "cate_lst = []\n",
    "title_lst = []\n",
    "price_lst = []\n",
    "for i in range(0,20) :\n",
    "    img = driver.find_elements(By.CLASS_NAME, 'image__lazy.image__load')\n",
    "    img[i].click()\n",
    "    cate = driver.find_element(By.CSS_SELECTOR, 'div.location-navi > ul > li.on > a').text\n",
    "    title = driver.find_element(By.CLASS_NAME, 'itemtit').text\n",
    "    price = driver.find_element(By.CLASS_NAME, 'price_real').text\n",
    "    cate_lst.append(cate)\n",
    "    title_lst.append(title)\n",
    "    price_lst.append(price)\n",
    "    driver.back()\n",
    "driver.quit()"
   ]
  },
  {
   "cell_type": "code",
   "execution_count": 84,
   "id": "3a25641e",
   "metadata": {},
   "outputs": [
    {
     "data": {
      "text/html": [
       "<div>\n",
       "<style scoped>\n",
       "    .dataframe tbody tr th:only-of-type {\n",
       "        vertical-align: middle;\n",
       "    }\n",
       "\n",
       "    .dataframe tbody tr th {\n",
       "        vertical-align: top;\n",
       "    }\n",
       "\n",
       "    .dataframe thead th {\n",
       "        text-align: right;\n",
       "    }\n",
       "</style>\n",
       "<table border=\"1\" class=\"dataframe\">\n",
       "  <thead>\n",
       "    <tr style=\"text-align: right;\">\n",
       "      <th></th>\n",
       "      <th>카테고리</th>\n",
       "      <th>상품명</th>\n",
       "      <th>가격</th>\n",
       "    </tr>\n",
       "  </thead>\n",
       "  <tbody>\n",
       "    <tr>\n",
       "      <th>1</th>\n",
       "      <td>즉석밥</td>\n",
       "      <td>더미식 백미밥 210g 6PX3 (18개) + (증정 찰현미밥2P+현미밥2P) (소비기한 24.07.20 이후제품)</td>\n",
       "      <td>18,000원</td>\n",
       "    </tr>\n",
       "    <tr>\n",
       "      <th>2</th>\n",
       "      <td>마스크팩/시트</td>\n",
       "      <td>메즈클라 100%천연 효소 파우더 클렌저 체험가 / 3000원 4900원 8900원 균일특가</td>\n",
       "      <td>8,900원</td>\n",
       "    </tr>\n",
       "    <tr>\n",
       "      <th>3</th>\n",
       "      <td>탄산/기능성음료</td>\n",
       "      <td>펩시제로 210ml 30캔 +사이다제로 210ml 30캔</td>\n",
       "      <td>27,900원</td>\n",
       "    </tr>\n",
       "    <tr>\n",
       "      <th>4</th>\n",
       "      <td>망고</td>\n",
       "      <td>(20%+NH10%) 고당도 마하차녹 무지개 망고 특대과 4kg 8-12과</td>\n",
       "      <td>36,900원</td>\n",
       "    </tr>\n",
       "    <tr>\n",
       "      <th>5</th>\n",
       "      <td>라운드넥티셔츠</td>\n",
       "      <td>((단하루 10%+10%쿠폰)) 시크릿무드 역마진 파격SALE/바람막이/자켓/원피스/니트/팬츠 외 미시룩BEST</td>\n",
       "      <td>9,900원</td>\n",
       "    </tr>\n",
       "    <tr>\n",
       "      <th>6</th>\n",
       "      <td>유아동상하복세트</td>\n",
       "      <td>(네파키즈)(신세계강남점)네파키즈 23SS 플랜트 쭈리 상하세트 KJD5901</td>\n",
       "      <td>27,220원</td>\n",
       "    </tr>\n",
       "    <tr>\n",
       "      <th>7</th>\n",
       "      <td>우주복/바디슈트</td>\n",
       "      <td>(신세계본점)(신세계본점단독)본점24년 신상품 여름 우주복내의 4종중 택1 (34370-041 34370-054)</td>\n",
       "      <td>32,000원</td>\n",
       "    </tr>\n",
       "    <tr>\n",
       "      <th>8</th>\n",
       "      <td>한우</td>\n",
       "      <td>20%쿠폰가 19920원) 1등급 한우 암소 불고기 냉장 500g+500g (총1kg) 외 모음</td>\n",
       "      <td>19,920원</td>\n",
       "    </tr>\n",
       "    <tr>\n",
       "      <th>9</th>\n",
       "      <td>망고</td>\n",
       "      <td>태국 남독마이 망고 4kg (8~12과)</td>\n",
       "      <td>33,900원</td>\n",
       "    </tr>\n",
       "    <tr>\n",
       "      <th>10</th>\n",
       "      <td>기본/라운드/브이넥</td>\n",
       "      <td>TATE 테이트 봄이왔나 봄 티셔츠/팬츠/니트/가디건 외 15%쿠폰</td>\n",
       "      <td>12,700원</td>\n",
       "    </tr>\n",
       "    <tr>\n",
       "      <th>11</th>\n",
       "      <td>과일</td>\n",
       "      <td>(20%+NH10%)빨간 사과 햇 부사 한입사과 2.5KG (12-18과) 스마일배송</td>\n",
       "      <td>15,530원</td>\n",
       "    </tr>\n",
       "    <tr>\n",
       "      <th>12</th>\n",
       "      <td>스낵</td>\n",
       "      <td>순 감자과자 3+3봉(감자맛/양파맛) 밀가루없는 대용량 비건스낵과자/맥주안주</td>\n",
       "      <td>16,200원</td>\n",
       "    </tr>\n",
       "    <tr>\n",
       "      <th>13</th>\n",
       "      <td>당근</td>\n",
       "      <td>(20%+10%즉할)당근 국내산 흙당근 3kg 왕/왕특 (제주당근)</td>\n",
       "      <td>10,900원</td>\n",
       "    </tr>\n",
       "    <tr>\n",
       "      <th>14</th>\n",
       "      <td>런닝화</td>\n",
       "      <td>쿠폰가 31680원 언더아머본사남성 UA Micro G 킬치스 슬립 리커버 운동화3026357-001 정가 99000 무료배송</td>\n",
       "      <td>39,600원</td>\n",
       "    </tr>\n",
       "    <tr>\n",
       "      <th>15</th>\n",
       "      <td>스트레이트핏</td>\n",
       "      <td>(무료반품/20+10%쿠폰) 봄신상 BEST 모음 38종 택1/청바지/슬랙스/면바지/셔츠/니트/티셔츠</td>\n",
       "      <td>26,900원</td>\n",
       "    </tr>\n",
       "    <tr>\n",
       "      <th>16</th>\n",
       "      <td>탄산/기능성음료</td>\n",
       "      <td>펩시제로 라임향 제로카페인 355ml 24캔</td>\n",
       "      <td>16,150원</td>\n",
       "    </tr>\n",
       "    <tr>\n",
       "      <th>17</th>\n",
       "      <td>찌개/찜</td>\n",
       "      <td>라면사리1개+겨자소스2개 증정김가네 식탁 감자탕 5kg (9-10인분)/국내산 돈등뼈</td>\n",
       "      <td>18,220원</td>\n",
       "    </tr>\n",
       "    <tr>\n",
       "      <th>18</th>\n",
       "      <td>유아동상하복세트</td>\n",
       "      <td>(신세계본점)본점단독 블루독베이비 활동복 54000원 5종 중 택1(44170-672-99)</td>\n",
       "      <td>43,200원</td>\n",
       "    </tr>\n",
       "    <tr>\n",
       "      <th>19</th>\n",
       "      <td>남성등산자켓</td>\n",
       "      <td>웨스트우드 SS BEST 바람막이/집업/티셔츠/자켓/등산바지 모음전</td>\n",
       "      <td>25,000원</td>\n",
       "    </tr>\n",
       "    <tr>\n",
       "      <th>20</th>\n",
       "      <td>메가박스</td>\n",
       "      <td>(클럽전용)일반예매권2D-주중/주말</td>\n",
       "      <td>8,900원</td>\n",
       "    </tr>\n",
       "  </tbody>\n",
       "</table>\n",
       "</div>"
      ],
      "text/plain": [
       "          카테고리  \\\n",
       "1          즉석밥   \n",
       "2      마스크팩/시트   \n",
       "3     탄산/기능성음료   \n",
       "4           망고   \n",
       "5      라운드넥티셔츠   \n",
       "6     유아동상하복세트   \n",
       "7     우주복/바디슈트   \n",
       "8           한우   \n",
       "9           망고   \n",
       "10  기본/라운드/브이넥   \n",
       "11          과일   \n",
       "12          스낵   \n",
       "13          당근   \n",
       "14         런닝화   \n",
       "15      스트레이트핏   \n",
       "16    탄산/기능성음료   \n",
       "17        찌개/찜   \n",
       "18    유아동상하복세트   \n",
       "19      남성등산자켓   \n",
       "20        메가박스   \n",
       "\n",
       "                                                                       상품명  \\\n",
       "1         더미식 백미밥 210g 6PX3 (18개) + (증정 찰현미밥2P+현미밥2P) (소비기한 24.07.20 이후제품)   \n",
       "2                      메즈클라 100%천연 효소 파우더 클렌저 체험가 / 3000원 4900원 8900원 균일특가   \n",
       "3                                          펩시제로 210ml 30캔 +사이다제로 210ml 30캔   \n",
       "4                                (20%+NH10%) 고당도 마하차녹 무지개 망고 특대과 4kg 8-12과   \n",
       "5           ((단하루 10%+10%쿠폰)) 시크릿무드 역마진 파격SALE/바람막이/자켓/원피스/니트/팬츠 외 미시룩BEST   \n",
       "6                              (네파키즈)(신세계강남점)네파키즈 23SS 플랜트 쭈리 상하세트 KJD5901   \n",
       "7          (신세계본점)(신세계본점단독)본점24년 신상품 여름 우주복내의 4종중 택1 (34370-041 34370-054)   \n",
       "8                    20%쿠폰가 19920원) 1등급 한우 암소 불고기 냉장 500g+500g (총1kg) 외 모음   \n",
       "9                                                   태국 남독마이 망고 4kg (8~12과)   \n",
       "10                                   TATE 테이트 봄이왔나 봄 티셔츠/팬츠/니트/가디건 외 15%쿠폰   \n",
       "11                         (20%+NH10%)빨간 사과 햇 부사 한입사과 2.5KG (12-18과) 스마일배송   \n",
       "12                              순 감자과자 3+3봉(감자맛/양파맛) 밀가루없는 대용량 비건스낵과자/맥주안주   \n",
       "13                                   (20%+10%즉할)당근 국내산 흙당근 3kg 왕/왕특 (제주당근)   \n",
       "14  쿠폰가 31680원 언더아머본사남성 UA Micro G 킬치스 슬립 리커버 운동화3026357-001 정가 99000 무료배송   \n",
       "15                (무료반품/20+10%쿠폰) 봄신상 BEST 모음 38종 택1/청바지/슬랙스/면바지/셔츠/니트/티셔츠   \n",
       "16                                                펩시제로 라임향 제로카페인 355ml 24캔   \n",
       "17                         라면사리1개+겨자소스2개 증정김가네 식탁 감자탕 5kg (9-10인분)/국내산 돈등뼈   \n",
       "18                     (신세계본점)본점단독 블루독베이비 활동복 54000원 5종 중 택1(44170-672-99)   \n",
       "19                                   웨스트우드 SS BEST 바람막이/집업/티셔츠/자켓/등산바지 모음전   \n",
       "20                                                     (클럽전용)일반예매권2D-주중/주말   \n",
       "\n",
       "         가격  \n",
       "1   18,000원  \n",
       "2    8,900원  \n",
       "3   27,900원  \n",
       "4   36,900원  \n",
       "5    9,900원  \n",
       "6   27,220원  \n",
       "7   32,000원  \n",
       "8   19,920원  \n",
       "9   33,900원  \n",
       "10  12,700원  \n",
       "11  15,530원  \n",
       "12  16,200원  \n",
       "13  10,900원  \n",
       "14  39,600원  \n",
       "15  26,900원  \n",
       "16  16,150원  \n",
       "17  18,220원  \n",
       "18  43,200원  \n",
       "19  25,000원  \n",
       "20   8,900원  "
      ]
     },
     "execution_count": 84,
     "metadata": {},
     "output_type": "execute_result"
    }
   ],
   "source": [
    "import pandas as pd\n",
    "dic = {'카테고리' : cate_lst, '상품명' : title_lst, '가격' : price_lst}\n",
    "pd.DataFrame(dic, index = [1, 2, 3, 4, 5, 6, 7, 8, 9, 10, 11, 12, 13, 14, 15, 16, 17, 18, 19, 20])"
   ]
  },
  {
   "cell_type": "markdown",
   "id": "604fc20b",
   "metadata": {},
   "source": [
    "## Question4"
   ]
  },
  {
   "cell_type": "markdown",
   "id": "d44a3ead",
   "metadata": {},
   "source": [
    "##### 문제1"
   ]
  },
  {
   "cell_type": "code",
   "execution_count": 210,
   "id": "e5cb9aed",
   "metadata": {},
   "outputs": [],
   "source": [
    "from selenium import webdriver as wb\n",
    "from selenium.webdriver.common.keys import Keys\n",
    "from selenium.webdriver.common.by import By\n",
    "from bs4 import BeautifulSoup as bs\n",
    "\n",
    "from selenium.webdriver.chrome.service import Service\n",
    "from webdriver_manager.chrome import ChromeDriverManager\n",
    "\n",
    "import requests as req\n",
    "import pandas as pd\n",
    "import time"
   ]
  },
  {
   "cell_type": "code",
   "execution_count": 211,
   "id": "c0eed386",
   "metadata": {},
   "outputs": [],
   "source": [
    "s = Service(ChromeDriverManager().install())\n",
    "driver = wb.Chrome(service = s)\n",
    "driver.get('https://www.melon.com/chart/index.htm')"
   ]
  },
  {
   "cell_type": "code",
   "execution_count": 212,
   "id": "e0893b8e",
   "metadata": {},
   "outputs": [
    {
     "data": {
      "text/plain": [
       "<Response [200]>"
      ]
     },
     "execution_count": 212,
     "metadata": {},
     "output_type": "execute_result"
    }
   ],
   "source": [
    "h = {\"User-Agent\" : 'Mozilla/5.0 (Windows NT 10.0; Win64; x64) AppleWebKit/537.36 (KHTML, like Gecko) Chrome/122.0.0.0 Safari/537.36'}\n",
    "melon = req.get('https://www.melon.com/chart/index.htm', headers = h)\n",
    "melon"
   ]
  },
  {
   "cell_type": "code",
   "execution_count": 213,
   "id": "25cf3668",
   "metadata": {},
   "outputs": [],
   "source": [
    "soup = bs(melon.text, 'lxml')"
   ]
  },
  {
   "cell_type": "code",
   "execution_count": 244,
   "id": "07a28311",
   "metadata": {},
   "outputs": [],
   "source": [
    "song = driver.find_elements(By.CSS_SELECTOR, 'div.ellipsis.rank01')\n",
    "singer = driver.find_elements(By.CSS_SELECTOR, 'div.ellipsis.rank02')"
   ]
  },
  {
   "cell_type": "code",
   "execution_count": 245,
   "id": "67810dea",
   "metadata": {},
   "outputs": [],
   "source": [
    "lst_song = []\n",
    "lst_singer = []\n",
    "rank = []\n",
    "\n",
    "for i in range(0,len(singer)) :\n",
    "    song1 = song[i].text.strip()\n",
    "    singer1 = singer[i].text\n",
    "    lst_song.append(song1)   \n",
    "    lst_singer.append(singer1)\n",
    "    rank.append(i+1)"
   ]
  },
  {
   "cell_type": "code",
   "execution_count": 246,
   "id": "0008ed16",
   "metadata": {},
   "outputs": [],
   "source": [
    "# 좋아요 수집하기\n",
    "good_lst = []\n",
    "for i in range(0, len(singer)) : \n",
    "    driver.find_elements(By.CSS_SELECTOR, 'a.btn.button_icons.type03.song_info')[i].click()\n",
    "    good = driver.find_element(By.CSS_SELECTOR, 'span#d_like_count')\n",
    "    good_lst.append(good.text)\n",
    "    driver.back()"
   ]
  },
  {
   "cell_type": "code",
   "execution_count": 247,
   "id": "57d045c6",
   "metadata": {},
   "outputs": [],
   "source": [
    "driver.quit()"
   ]
  },
  {
   "cell_type": "code",
   "execution_count": null,
   "id": "62f83794",
   "metadata": {},
   "outputs": [],
   "source": [
    "dic = {'노래 제목' : lst_song, '아티스트' : lst_singer, '좋아요' : good_lst, '순위' : rank}\n",
    "melon100 = pd.DataFrame(dic)\n",
    "melon100.set_index('순위', inplace=True)\n",
    "melon100"
   ]
  },
  {
   "cell_type": "code",
   "execution_count": 199,
   "id": "d9b26ceb",
   "metadata": {},
   "outputs": [],
   "source": [
    "melon100.to_csv('멜론차트top100.txt', encoding = 'utf-8')"
   ]
  },
  {
   "cell_type": "markdown",
   "id": "0b2b341f",
   "metadata": {},
   "source": [
    "##### 문제2"
   ]
  },
  {
   "cell_type": "code",
   "execution_count": 50,
   "id": "494b9ba7",
   "metadata": {},
   "outputs": [],
   "source": [
    "import pandas as pd\n",
    "\n",
    "from selenium import webdriver as wb\n",
    "from selenium.webdriver.common.keys import Keys\n",
    "from selenium.webdriver.common.by import By\n",
    "import time\n",
    "from bs4 import BeautifulSoup as bs\n",
    "\n",
    "from selenium.webdriver.chrome.service import Service\n",
    "from webdriver_manager.chrome import ChromeDriverManager\n",
    "\n",
    "from selenium.webdriver.support.ui import WebDriverWait\n",
    "from selenium.webdriver.support import expected_conditions as EC"
   ]
  },
  {
   "cell_type": "code",
   "execution_count": 206,
   "id": "9e57b1d5",
   "metadata": {},
   "outputs": [],
   "source": [
    "s = Service(ChromeDriverManager().install())\n",
    "driver = wb.Chrome(service = s)"
   ]
  },
  {
   "cell_type": "code",
   "execution_count": 207,
   "id": "25bc3229",
   "metadata": {},
   "outputs": [],
   "source": [
    "driver.get('https://www.youtube.com/results?search_query=블랙핑크 뮤비')"
   ]
  },
  {
   "cell_type": "code",
   "execution_count": 208,
   "id": "013ceeee",
   "metadata": {},
   "outputs": [],
   "source": [
    "video_url = driver.find_elements(By.CSS_SELECTOR,'a#video-title')\n",
    "names = driver.find_elements(By.CSS_SELECTOR,'a#video-title>yt-formatted-string.style-scope.ytd-video-renderer')\n",
    "\n",
    "url_lst = []\n",
    "names_lst = []\n",
    "for i in range(0, 20) : \n",
    "    names_ = names[i].text\n",
    "    url_ = video_url[i].get_attribute('href')\n",
    "    names_lst.append(names_)\n",
    "    url_lst.append(url_)"
   ]
  },
  {
   "cell_type": "code",
   "execution_count": 209,
   "id": "7f260be5",
   "metadata": {},
   "outputs": [
    {
     "data": {
      "text/html": [
       "<div>\n",
       "<style scoped>\n",
       "    .dataframe tbody tr th:only-of-type {\n",
       "        vertical-align: middle;\n",
       "    }\n",
       "\n",
       "    .dataframe tbody tr th {\n",
       "        vertical-align: top;\n",
       "    }\n",
       "\n",
       "    .dataframe thead th {\n",
       "        text-align: right;\n",
       "    }\n",
       "</style>\n",
       "<table border=\"1\" class=\"dataframe\">\n",
       "  <thead>\n",
       "    <tr style=\"text-align: right;\">\n",
       "      <th></th>\n",
       "      <th>영상이름</th>\n",
       "      <th>링크</th>\n",
       "    </tr>\n",
       "  </thead>\n",
       "  <tbody>\n",
       "    <tr>\n",
       "      <th>0</th>\n",
       "      <td>BLACKPINK - ‘Shut Down’ M/V</td>\n",
       "      <td>https://www.youtube.com/watch?v=POe9SOEKotk&amp;pp=ygUT67iU656Z7ZWR7YGsIOuupOu5hA%3D%3D</td>\n",
       "    </tr>\n",
       "    <tr>\n",
       "      <th>1</th>\n",
       "      <td>BLACKPINK - 'Kill This Love' M/V</td>\n",
       "      <td>https://www.youtube.com/watch?v=2S24-y0Ij3Y&amp;pp=ygUT67iU656Z7ZWR7YGsIOuupOu5hA%3D%3D</td>\n",
       "    </tr>\n",
       "    <tr>\n",
       "      <th>2</th>\n",
       "      <td>M/V 4K 걸그룹 블랙핑크 전곡 멤버 솔로 전곡 포함 ♬♡ 뮤비 노래 모음 플리 21곡 ♬♡</td>\n",
       "      <td>https://www.youtube.com/watch?v=CvtVesOwAXg&amp;pp=ygUT67iU656Z7ZWR7YGsIOuupOu5hA%3D%3D</td>\n",
       "    </tr>\n",
       "    <tr>\n",
       "      <th>3</th>\n",
       "      <td>BLACKPINK - ‘Pink Venom’ M/V</td>\n",
       "      <td>https://www.youtube.com/watch?v=gQlMMD8auMs&amp;pp=ygUT67iU656Z7ZWR7YGsIOuupOu5hA%3D%3D</td>\n",
       "    </tr>\n",
       "    <tr>\n",
       "      <th>4</th>\n",
       "      <td>BLACKPINK - 'Lovesick Girls' M/V</td>\n",
       "      <td>https://www.youtube.com/watch?v=dyRsYk0LyA8&amp;pp=ygUT67iU656Z7ZWR7YGsIOuupOu5hA%3D%3D</td>\n",
       "    </tr>\n",
       "    <tr>\n",
       "      <th>5</th>\n",
       "      <td>BLACKPINK - 'How You Like That' M/V</td>\n",
       "      <td>https://www.youtube.com/watch?v=ioNng23DkIM&amp;pp=ygUT67iU656Z7ZWR7YGsIOuupOu5hA%3D%3D</td>\n",
       "    </tr>\n",
       "    <tr>\n",
       "      <th>6</th>\n",
       "      <td>BLACKPINK - ‘뚜두뚜두 (DDU-DU DDU-DU)’ M/V</td>\n",
       "      <td>https://www.youtube.com/watch?v=IHNzOHi8sJs&amp;pp=ygUT67iU656Z7ZWR7YGsIOuupOu5hA%3D%3D</td>\n",
       "    </tr>\n",
       "    <tr>\n",
       "      <th>7</th>\n",
       "      <td>[𝐏𝐥𝐚𝐲𝐥𝐢𝐬𝐭] 블랙핑크 노래모음</td>\n",
       "      <td>https://www.youtube.com/watch?v=jgYPBP3-qnA&amp;pp=ygUT67iU656Z7ZWR7YGsIOuupOu5hA%3D%3D</td>\n",
       "    </tr>\n",
       "    <tr>\n",
       "      <th>8</th>\n",
       "      <td>CÔ 6 - CÔ LÀNH CHÀNH NHẢY DỰNG KHI HỒNG LOAN HÁT Ở SÂN KHẤU TRỐNG ĐỒNG?</td>\n",
       "      <td>https://www.youtube.com/watch?v=Du1VR3tRUnQ&amp;pp=ygUT67iU656Z7ZWR7YGsIOuupOu5hA%3D%3D</td>\n",
       "    </tr>\n",
       "    <tr>\n",
       "      <th>9</th>\n",
       "      <td>블랙핑크 노래모음 (가사포함) | B L A C K P I N K Playlist (Korean Lyrics)</td>\n",
       "      <td>https://www.youtube.com/watch?v=G8gXcRB87tk&amp;pp=ygUT67iU656Z7ZWR7YGsIOuupOu5hA%3D%3D</td>\n",
       "    </tr>\n",
       "    <tr>\n",
       "      <th>10</th>\n",
       "      <td>[Playlist] This is BLACKPINK 🖤💗 | 블랙핑크 노래 모음 | BLACKPINK essential;</td>\n",
       "      <td>https://www.youtube.com/watch?v=QJ_IByssFJw&amp;pp=ygUT67iU656Z7ZWR7YGsIOuupOu5hA%3D%3D</td>\n",
       "    </tr>\n",
       "    <tr>\n",
       "      <th>11</th>\n",
       "      <td>JISOO - ‘꽃(FLOWER)’ M/V</td>\n",
       "      <td>https://www.youtube.com/watch?v=YudHcBIxlYw&amp;pp=ygUT67iU656Z7ZWR7YGsIOuupOu5hA%3D%3D</td>\n",
       "    </tr>\n",
       "    <tr>\n",
       "      <th>12</th>\n",
       "      <td>BLACKPINK - '붐바야 (BOOMBAYAH)' M/V</td>\n",
       "      <td>https://www.youtube.com/watch?v=bwmSjveL3Lc&amp;pp=ygUT67iU656Z7ZWR7YGsIOuupOu5hA%3D%3D</td>\n",
       "    </tr>\n",
       "    <tr>\n",
       "      <th>13</th>\n",
       "      <td>BLACKPINK - '마지막처럼 (AS IF IT'S YOUR LAST)' M/V</td>\n",
       "      <td>https://www.youtube.com/watch?v=Amq-qlqbjYA&amp;pp=ygUT67iU656Z7ZWR7YGsIOuupOu5hA%3D%3D</td>\n",
       "    </tr>\n",
       "    <tr>\n",
       "      <th>14</th>\n",
       "      <td>BLACKPINK - '불장난 (PLAYING WITH FIRE)' M/V</td>\n",
       "      <td>https://www.youtube.com/watch?v=9pdj4iJD08s&amp;pp=ygUT67iU656Z7ZWR7YGsIOuupOu5hA%3D%3D</td>\n",
       "    </tr>\n",
       "    <tr>\n",
       "      <th>15</th>\n",
       "      <td>BLACKPINK - '휘파람 (WHISTLE)' M/V</td>\n",
       "      <td>https://www.youtube.com/watch?v=dISNgvVpWlo&amp;pp=ygUT67iU656Z7ZWR7YGsIOuupOu5hA%3D%3D</td>\n",
       "    </tr>\n",
       "    <tr>\n",
       "      <th>16</th>\n",
       "      <td>BLACKPINK - 'Ice Cream (with Selena Gomez)' M/V</td>\n",
       "      <td>https://www.youtube.com/watch?v=vRXZj0DzXIA&amp;pp=ygUT67iU656Z7ZWR7YGsIOuupOu5hA%3D%3D</td>\n",
       "    </tr>\n",
       "    <tr>\n",
       "      <th>17</th>\n",
       "      <td>𝐏𝐥𝐚𝐲𝐥𝐢𝐬𝐭 존재 자체가 장르, 테일러 스위프트의 히트곡 모음 𝐓𝐚𝐲𝐥𝐨𝐫 𝐬𝐰𝐢𝐟𝐭 𝐩𝐥𝐚𝐲𝐥𝐢𝐬𝐭</td>\n",
       "      <td>https://www.youtube.com/watch?v=FH5flKWSYgo&amp;pp=ygUT67iU656Z7ZWR7YGsIOuupOu5hA%3D%3D</td>\n",
       "    </tr>\n",
       "    <tr>\n",
       "      <th>18</th>\n",
       "      <td>V ‘FRI(END)S’ Official MV</td>\n",
       "      <td>https://www.youtube.com/watch?v=62peQdQv4uo&amp;pp=ygUT67iU656Z7ZWR7YGsIOuupOu5hA%3D%3D</td>\n",
       "    </tr>\n",
       "    <tr>\n",
       "      <th>19</th>\n",
       "      <td>Shakira - Waka Waka (This Time for Africa) (The Official 2010 FIFA World Cup™ Song)</td>\n",
       "      <td>https://www.youtube.com/watch?v=pRpeEdMmmQ0&amp;pp=ygUT67iU656Z7ZWR7YGsIOuupOu5hA%3D%3D</td>\n",
       "    </tr>\n",
       "  </tbody>\n",
       "</table>\n",
       "</div>"
      ],
      "text/plain": [
       "                                                                                   영상이름  \\\n",
       "0                                                           BLACKPINK - ‘Shut Down’ M/V   \n",
       "1                                                      BLACKPINK - 'Kill This Love' M/V   \n",
       "2                                  M/V 4K 걸그룹 블랙핑크 전곡 멤버 솔로 전곡 포함 ♬♡ 뮤비 노래 모음 플리 21곡 ♬♡   \n",
       "3                                                          BLACKPINK - ‘Pink Venom’ M/V   \n",
       "4                                                      BLACKPINK - 'Lovesick Girls' M/V   \n",
       "5                                                   BLACKPINK - 'How You Like That' M/V   \n",
       "6                                                BLACKPINK - ‘뚜두뚜두 (DDU-DU DDU-DU)’ M/V   \n",
       "7                                                                  [𝐏𝐥𝐚𝐲𝐥𝐢𝐬𝐭] 블랙핑크 노래모음   \n",
       "8               CÔ 6 - CÔ LÀNH CHÀNH NHẢY DỰNG KHI HỒNG LOAN HÁT Ở SÂN KHẤU TRỐNG ĐỒNG?   \n",
       "9                         블랙핑크 노래모음 (가사포함) | B L A C K P I N K Playlist (Korean Lyrics)   \n",
       "10                  [Playlist] This is BLACKPINK 🖤💗 | 블랙핑크 노래 모음 | BLACKPINK essential;   \n",
       "11                                                              JISOO - ‘꽃(FLOWER)’ M/V   \n",
       "12                                                    BLACKPINK - '붐바야 (BOOMBAYAH)' M/V   \n",
       "13                                       BLACKPINK - '마지막처럼 (AS IF IT'S YOUR LAST)' M/V   \n",
       "14                                            BLACKPINK - '불장난 (PLAYING WITH FIRE)' M/V   \n",
       "15                                                      BLACKPINK - '휘파람 (WHISTLE)' M/V   \n",
       "16                                      BLACKPINK - 'Ice Cream (with Selena Gomez)' M/V   \n",
       "17                           𝐏𝐥𝐚𝐲𝐥𝐢𝐬𝐭 존재 자체가 장르, 테일러 스위프트의 히트곡 모음 𝐓𝐚𝐲𝐥𝐨𝐫 𝐬𝐰𝐢𝐟𝐭 𝐩𝐥𝐚𝐲𝐥𝐢𝐬𝐭   \n",
       "18                                                            V ‘FRI(END)S’ Official MV   \n",
       "19  Shakira - Waka Waka (This Time for Africa) (The Official 2010 FIFA World Cup™ Song)   \n",
       "\n",
       "                                                                                     링크  \n",
       "0   https://www.youtube.com/watch?v=POe9SOEKotk&pp=ygUT67iU656Z7ZWR7YGsIOuupOu5hA%3D%3D  \n",
       "1   https://www.youtube.com/watch?v=2S24-y0Ij3Y&pp=ygUT67iU656Z7ZWR7YGsIOuupOu5hA%3D%3D  \n",
       "2   https://www.youtube.com/watch?v=CvtVesOwAXg&pp=ygUT67iU656Z7ZWR7YGsIOuupOu5hA%3D%3D  \n",
       "3   https://www.youtube.com/watch?v=gQlMMD8auMs&pp=ygUT67iU656Z7ZWR7YGsIOuupOu5hA%3D%3D  \n",
       "4   https://www.youtube.com/watch?v=dyRsYk0LyA8&pp=ygUT67iU656Z7ZWR7YGsIOuupOu5hA%3D%3D  \n",
       "5   https://www.youtube.com/watch?v=ioNng23DkIM&pp=ygUT67iU656Z7ZWR7YGsIOuupOu5hA%3D%3D  \n",
       "6   https://www.youtube.com/watch?v=IHNzOHi8sJs&pp=ygUT67iU656Z7ZWR7YGsIOuupOu5hA%3D%3D  \n",
       "7   https://www.youtube.com/watch?v=jgYPBP3-qnA&pp=ygUT67iU656Z7ZWR7YGsIOuupOu5hA%3D%3D  \n",
       "8   https://www.youtube.com/watch?v=Du1VR3tRUnQ&pp=ygUT67iU656Z7ZWR7YGsIOuupOu5hA%3D%3D  \n",
       "9   https://www.youtube.com/watch?v=G8gXcRB87tk&pp=ygUT67iU656Z7ZWR7YGsIOuupOu5hA%3D%3D  \n",
       "10  https://www.youtube.com/watch?v=QJ_IByssFJw&pp=ygUT67iU656Z7ZWR7YGsIOuupOu5hA%3D%3D  \n",
       "11  https://www.youtube.com/watch?v=YudHcBIxlYw&pp=ygUT67iU656Z7ZWR7YGsIOuupOu5hA%3D%3D  \n",
       "12  https://www.youtube.com/watch?v=bwmSjveL3Lc&pp=ygUT67iU656Z7ZWR7YGsIOuupOu5hA%3D%3D  \n",
       "13  https://www.youtube.com/watch?v=Amq-qlqbjYA&pp=ygUT67iU656Z7ZWR7YGsIOuupOu5hA%3D%3D  \n",
       "14  https://www.youtube.com/watch?v=9pdj4iJD08s&pp=ygUT67iU656Z7ZWR7YGsIOuupOu5hA%3D%3D  \n",
       "15  https://www.youtube.com/watch?v=dISNgvVpWlo&pp=ygUT67iU656Z7ZWR7YGsIOuupOu5hA%3D%3D  \n",
       "16  https://www.youtube.com/watch?v=vRXZj0DzXIA&pp=ygUT67iU656Z7ZWR7YGsIOuupOu5hA%3D%3D  \n",
       "17  https://www.youtube.com/watch?v=FH5flKWSYgo&pp=ygUT67iU656Z7ZWR7YGsIOuupOu5hA%3D%3D  \n",
       "18  https://www.youtube.com/watch?v=62peQdQv4uo&pp=ygUT67iU656Z7ZWR7YGsIOuupOu5hA%3D%3D  \n",
       "19  https://www.youtube.com/watch?v=pRpeEdMmmQ0&pp=ygUT67iU656Z7ZWR7YGsIOuupOu5hA%3D%3D  "
      ]
     },
     "execution_count": 209,
     "metadata": {},
     "output_type": "execute_result"
    }
   ],
   "source": [
    "pd.set_option('display.max_colwidth', None)\n",
    "dic = {'영상이름' : names_lst, '링크' : url_lst}\n",
    "y_df = pd.DataFrame(dic)\n",
    "y_df"
   ]
  },
  {
   "cell_type": "code",
   "execution_count": 204,
   "id": "65e96aaf",
   "metadata": {},
   "outputs": [],
   "source": [
    "driver.quit()"
   ]
  },
  {
   "cell_type": "code",
   "execution_count": 76,
   "id": "af1681a2",
   "metadata": {},
   "outputs": [],
   "source": [
    "y_df.to_csv('유튜브 블랙핑크뮤비 링크.txt', encoding = 'utf-8')"
   ]
  }
 ],
 "metadata": {
  "kernelspec": {
   "display_name": "Python 3 (ipykernel)",
   "language": "python",
   "name": "python3"
  },
  "language_info": {
   "codemirror_mode": {
    "name": "ipython",
    "version": 3
   },
   "file_extension": ".py",
   "mimetype": "text/x-python",
   "name": "python",
   "nbconvert_exporter": "python",
   "pygments_lexer": "ipython3",
   "version": "3.11.5"
  }
 },
 "nbformat": 4,
 "nbformat_minor": 5
}
