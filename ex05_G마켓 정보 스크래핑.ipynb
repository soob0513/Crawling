{
 "cells": [
  {
   "cell_type": "code",
   "execution_count": 1,
   "id": "36635d83",
   "metadata": {},
   "outputs": [],
   "source": [
    "# 필요한 라이브러리 로딩\n",
    "from selenium import webdriver as wb\n",
    "# 웹 브라우저를 제어하기 위한 라이브러리\n",
    "from selenium.webdriver.common.keys import Keys\n",
    "# 웹에게 값을 '입력'받기 위한 라이브러리>> 컴퓨터용 키보드\n",
    "from selenium.webdriver.common.by import By\n",
    "# html 문서에서 태그와 선택자의 위치를 찾기 위한 라이브러리\n",
    "from bs4 import BeautifulSoup as bs\n",
    "# 컴퓨터가 이해하기 쉬운 객체로 변환해주는 라이브러리\n",
    "import time   # 시간 관련 라이브러리\n",
    "import pandas as pd  "
   ]
  },
  {
   "cell_type": "code",
   "execution_count": 2,
   "id": "57314ceb",
   "metadata": {},
   "outputs": [],
   "source": [
    "driver = wb.Chrome()\n",
    "driver.get('https://www.gmarket.co.kr/n/best')"
   ]
  },
  {
   "cell_type": "code",
   "execution_count": 3,
   "id": "a43611bb",
   "metadata": {
    "collapsed": true
   },
   "outputs": [
    {
     "data": {
      "text/plain": [
       "[<selenium.webdriver.remote.webelement.WebElement (session=\"f1a334a8f999f20f046c34227b7b2ce6\", element=\"f.C13081D4D750EB3949C1464078FA7392.d.E5C5E4F346A106368BAF06BCB9B1AD00.e.45\")>,\n",
       " <selenium.webdriver.remote.webelement.WebElement (session=\"f1a334a8f999f20f046c34227b7b2ce6\", element=\"f.C13081D4D750EB3949C1464078FA7392.d.E5C5E4F346A106368BAF06BCB9B1AD00.e.39\")>,\n",
       " <selenium.webdriver.remote.webelement.WebElement (session=\"f1a334a8f999f20f046c34227b7b2ce6\", element=\"f.C13081D4D750EB3949C1464078FA7392.d.E5C5E4F346A106368BAF06BCB9B1AD00.e.46\")>,\n",
       " <selenium.webdriver.remote.webelement.WebElement (session=\"f1a334a8f999f20f046c34227b7b2ce6\", element=\"f.C13081D4D750EB3949C1464078FA7392.d.E5C5E4F346A106368BAF06BCB9B1AD00.e.47\")>,\n",
       " <selenium.webdriver.remote.webelement.WebElement (session=\"f1a334a8f999f20f046c34227b7b2ce6\", element=\"f.C13081D4D750EB3949C1464078FA7392.d.E5C5E4F346A106368BAF06BCB9B1AD00.e.48\")>,\n",
       " <selenium.webdriver.remote.webelement.WebElement (session=\"f1a334a8f999f20f046c34227b7b2ce6\", element=\"f.C13081D4D750EB3949C1464078FA7392.d.E5C5E4F346A106368BAF06BCB9B1AD00.e.40\")>,\n",
       " <selenium.webdriver.remote.webelement.WebElement (session=\"f1a334a8f999f20f046c34227b7b2ce6\", element=\"f.C13081D4D750EB3949C1464078FA7392.d.E5C5E4F346A106368BAF06BCB9B1AD00.e.49\")>,\n",
       " <selenium.webdriver.remote.webelement.WebElement (session=\"f1a334a8f999f20f046c34227b7b2ce6\", element=\"f.C13081D4D750EB3949C1464078FA7392.d.E5C5E4F346A106368BAF06BCB9B1AD00.e.50\")>,\n",
       " <selenium.webdriver.remote.webelement.WebElement (session=\"f1a334a8f999f20f046c34227b7b2ce6\", element=\"f.C13081D4D750EB3949C1464078FA7392.d.E5C5E4F346A106368BAF06BCB9B1AD00.e.51\")>,\n",
       " <selenium.webdriver.remote.webelement.WebElement (session=\"f1a334a8f999f20f046c34227b7b2ce6\", element=\"f.C13081D4D750EB3949C1464078FA7392.d.E5C5E4F346A106368BAF06BCB9B1AD00.e.52\")>,\n",
       " <selenium.webdriver.remote.webelement.WebElement (session=\"f1a334a8f999f20f046c34227b7b2ce6\", element=\"f.C13081D4D750EB3949C1464078FA7392.d.E5C5E4F346A106368BAF06BCB9B1AD00.e.53\")>,\n",
       " <selenium.webdriver.remote.webelement.WebElement (session=\"f1a334a8f999f20f046c34227b7b2ce6\", element=\"f.C13081D4D750EB3949C1464078FA7392.d.E5C5E4F346A106368BAF06BCB9B1AD00.e.54\")>,\n",
       " <selenium.webdriver.remote.webelement.WebElement (session=\"f1a334a8f999f20f046c34227b7b2ce6\", element=\"f.C13081D4D750EB3949C1464078FA7392.d.E5C5E4F346A106368BAF06BCB9B1AD00.e.55\")>,\n",
       " <selenium.webdriver.remote.webelement.WebElement (session=\"f1a334a8f999f20f046c34227b7b2ce6\", element=\"f.C13081D4D750EB3949C1464078FA7392.d.E5C5E4F346A106368BAF06BCB9B1AD00.e.56\")>,\n",
       " <selenium.webdriver.remote.webelement.WebElement (session=\"f1a334a8f999f20f046c34227b7b2ce6\", element=\"f.C13081D4D750EB3949C1464078FA7392.d.E5C5E4F346A106368BAF06BCB9B1AD00.e.57\")>,\n",
       " <selenium.webdriver.remote.webelement.WebElement (session=\"f1a334a8f999f20f046c34227b7b2ce6\", element=\"f.C13081D4D750EB3949C1464078FA7392.d.E5C5E4F346A106368BAF06BCB9B1AD00.e.58\")>,\n",
       " <selenium.webdriver.remote.webelement.WebElement (session=\"f1a334a8f999f20f046c34227b7b2ce6\", element=\"f.C13081D4D750EB3949C1464078FA7392.d.E5C5E4F346A106368BAF06BCB9B1AD00.e.59\")>,\n",
       " <selenium.webdriver.remote.webelement.WebElement (session=\"f1a334a8f999f20f046c34227b7b2ce6\", element=\"f.C13081D4D750EB3949C1464078FA7392.d.E5C5E4F346A106368BAF06BCB9B1AD00.e.60\")>,\n",
       " <selenium.webdriver.remote.webelement.WebElement (session=\"f1a334a8f999f20f046c34227b7b2ce6\", element=\"f.C13081D4D750EB3949C1464078FA7392.d.E5C5E4F346A106368BAF06BCB9B1AD00.e.61\")>,\n",
       " <selenium.webdriver.remote.webelement.WebElement (session=\"f1a334a8f999f20f046c34227b7b2ce6\", element=\"f.C13081D4D750EB3949C1464078FA7392.d.E5C5E4F346A106368BAF06BCB9B1AD00.e.62\")>]"
      ]
     },
     "execution_count": 3,
     "metadata": {},
     "output_type": "execute_result"
    }
   ],
   "source": [
    "# 클릭할 요소 가져오기!\n",
    "img = driver.find_elements(By.CLASS_NAME, 'image__lazy.image__load')\n",
    "img"
   ]
  },
  {
   "cell_type": "code",
   "execution_count": 4,
   "id": "b2ebd92e",
   "metadata": {},
   "outputs": [],
   "source": [
    "# 해당 요소 클릭!\n",
    "img[0].click()"
   ]
  },
  {
   "cell_type": "code",
   "execution_count": 5,
   "id": "7a4da14a",
   "metadata": {},
   "outputs": [],
   "source": [
    "# 카테고리, 상품명, 가격 수집!\n",
    "cate = driver.find_element(By.CSS_SELECTOR, 'div.location-navi > ul > li.on > a').text\n",
    "\n",
    "title = driver.find_element(By.CSS_SELECTOR, '#itemcase_basic > div.box__item-title > h1').text\n",
    "\n",
    "price = driver.find_element(By.CSS_SELECTOR, '#itemcase_basic > div.box__item-title > div.price > span:nth-child(2) > strong').text"
   ]
  },
  {
   "cell_type": "code",
   "execution_count": 6,
   "id": "1dff3009",
   "metadata": {},
   "outputs": [
    {
     "data": {
      "text/plain": [
       "('라운드넥티셔츠',\n",
       " '((단하루 10%+10%쿠폰)) 시크릿무드 역마진 파격SALE/바람막이/자켓/원피스/니트/팬츠 외 미시룩BEST',\n",
       " '9,900원')"
      ]
     },
     "execution_count": 6,
     "metadata": {},
     "output_type": "execute_result"
    }
   ],
   "source": [
    "cate, title, price"
   ]
  },
  {
   "cell_type": "code",
   "execution_count": 7,
   "id": "d7e4202b",
   "metadata": {},
   "outputs": [],
   "source": [
    "# 뒤로 가기!\n",
    "driver.back()"
   ]
  },
  {
   "cell_type": "code",
   "execution_count": 8,
   "id": "5dbb57b7",
   "metadata": {},
   "outputs": [],
   "source": [
    "# img[1].click만 실행할 경우 error\n",
    "\n",
    "# driver를 통해 웹브라우저에 명령을 내리기 위해서는, 현재 웹페이지 정보에서만 가능!\n",
    "# 근데, 뒤로가기와 같은 페이지 새로고침이 일어날 경우, \n",
    "# 다시 웹페이지에 접근하여 요소에 접근해야함!\n",
    "# -> 동적 크롤링\n",
    "\n",
    "img = driver.find_elements(By.CLASS_NAME, 'image__lazy.image__load')\n",
    "img[1].click()"
   ]
  },
  {
   "cell_type": "code",
   "execution_count": 9,
   "id": "150a5dce",
   "metadata": {},
   "outputs": [],
   "source": [
    "cate = driver.find_element(By.CSS_SELECTOR, 'div.location-navi > ul > li.on > a').text\n",
    "\n",
    "title = driver.find_element(By.CSS_SELECTOR, '#itemcase_basic > div.box__item-title > h1').text\n",
    "\n",
    "price = driver.find_element(By.CSS_SELECTOR, '#itemcase_basic > div.box__item-title > div.price > span:nth-child(2) > strong').text"
   ]
  },
  {
   "cell_type": "code",
   "execution_count": 10,
   "id": "b1a09c89",
   "metadata": {},
   "outputs": [
    {
     "data": {
      "text/plain": [
       "('패밀리레스토랑', '(빕스) 15 000원 스프링 바우처 / 3월 19일부터 사용가능', '1,500원')"
      ]
     },
     "execution_count": 10,
     "metadata": {},
     "output_type": "execute_result"
    }
   ],
   "source": [
    "cate, title, price"
   ]
  },
  {
   "cell_type": "code",
   "execution_count": 11,
   "id": "243bdd09",
   "metadata": {},
   "outputs": [],
   "source": [
    "driver.quit()"
   ]
  },
  {
   "cell_type": "markdown",
   "id": "c536fe1b",
   "metadata": {},
   "source": [
    "### 실습! G마켓 Best 상품 Page에서 10ea의 상품 정보들을 스크래핑!\n",
    "1. 크롬 브라우저 실행, url 요청(G마켓 Best 상품 Page)\n",
    "2. 상품 클릭\n",
    "3. 수집(상품명, 가격, 카테고리) 및 추출\n",
    "4. 뒤로가기\n",
    "5. 2~4 단계 반복\n",
    "6. DataFrame화"
   ]
  },
  {
   "cell_type": "code",
   "execution_count": null,
   "id": "b294f51a",
   "metadata": {},
   "outputs": [],
   "source": [
    "driver = wb.Chrome()\n",
    "driver.get('https://www.gmarket.co.kr/n/best')"
   ]
  },
  {
   "cell_type": "code",
   "execution_count": 34,
   "id": "c8237ff8",
   "metadata": {
    "collapsed": true
   },
   "outputs": [
    {
     "data": {
      "text/plain": [
       "[<selenium.webdriver.remote.webelement.WebElement (session=\"b63d7784f48affe6d9e7e77dbbe53158\", element=\"f.642F2D13C2377CB489C9F52A303F3860.d.D8948F7018BD35FE4C7B92EEB3DF77A8.e.45\")>,\n",
       " <selenium.webdriver.remote.webelement.WebElement (session=\"b63d7784f48affe6d9e7e77dbbe53158\", element=\"f.642F2D13C2377CB489C9F52A303F3860.d.D8948F7018BD35FE4C7B92EEB3DF77A8.e.39\")>,\n",
       " <selenium.webdriver.remote.webelement.WebElement (session=\"b63d7784f48affe6d9e7e77dbbe53158\", element=\"f.642F2D13C2377CB489C9F52A303F3860.d.D8948F7018BD35FE4C7B92EEB3DF77A8.e.46\")>,\n",
       " <selenium.webdriver.remote.webelement.WebElement (session=\"b63d7784f48affe6d9e7e77dbbe53158\", element=\"f.642F2D13C2377CB489C9F52A303F3860.d.D8948F7018BD35FE4C7B92EEB3DF77A8.e.47\")>,\n",
       " <selenium.webdriver.remote.webelement.WebElement (session=\"b63d7784f48affe6d9e7e77dbbe53158\", element=\"f.642F2D13C2377CB489C9F52A303F3860.d.D8948F7018BD35FE4C7B92EEB3DF77A8.e.48\")>,\n",
       " <selenium.webdriver.remote.webelement.WebElement (session=\"b63d7784f48affe6d9e7e77dbbe53158\", element=\"f.642F2D13C2377CB489C9F52A303F3860.d.D8948F7018BD35FE4C7B92EEB3DF77A8.e.40\")>,\n",
       " <selenium.webdriver.remote.webelement.WebElement (session=\"b63d7784f48affe6d9e7e77dbbe53158\", element=\"f.642F2D13C2377CB489C9F52A303F3860.d.D8948F7018BD35FE4C7B92EEB3DF77A8.e.49\")>,\n",
       " <selenium.webdriver.remote.webelement.WebElement (session=\"b63d7784f48affe6d9e7e77dbbe53158\", element=\"f.642F2D13C2377CB489C9F52A303F3860.d.D8948F7018BD35FE4C7B92EEB3DF77A8.e.50\")>,\n",
       " <selenium.webdriver.remote.webelement.WebElement (session=\"b63d7784f48affe6d9e7e77dbbe53158\", element=\"f.642F2D13C2377CB489C9F52A303F3860.d.D8948F7018BD35FE4C7B92EEB3DF77A8.e.51\")>,\n",
       " <selenium.webdriver.remote.webelement.WebElement (session=\"b63d7784f48affe6d9e7e77dbbe53158\", element=\"f.642F2D13C2377CB489C9F52A303F3860.d.D8948F7018BD35FE4C7B92EEB3DF77A8.e.52\")>,\n",
       " <selenium.webdriver.remote.webelement.WebElement (session=\"b63d7784f48affe6d9e7e77dbbe53158\", element=\"f.642F2D13C2377CB489C9F52A303F3860.d.D8948F7018BD35FE4C7B92EEB3DF77A8.e.53\")>,\n",
       " <selenium.webdriver.remote.webelement.WebElement (session=\"b63d7784f48affe6d9e7e77dbbe53158\", element=\"f.642F2D13C2377CB489C9F52A303F3860.d.D8948F7018BD35FE4C7B92EEB3DF77A8.e.54\")>,\n",
       " <selenium.webdriver.remote.webelement.WebElement (session=\"b63d7784f48affe6d9e7e77dbbe53158\", element=\"f.642F2D13C2377CB489C9F52A303F3860.d.D8948F7018BD35FE4C7B92EEB3DF77A8.e.55\")>,\n",
       " <selenium.webdriver.remote.webelement.WebElement (session=\"b63d7784f48affe6d9e7e77dbbe53158\", element=\"f.642F2D13C2377CB489C9F52A303F3860.d.D8948F7018BD35FE4C7B92EEB3DF77A8.e.56\")>,\n",
       " <selenium.webdriver.remote.webelement.WebElement (session=\"b63d7784f48affe6d9e7e77dbbe53158\", element=\"f.642F2D13C2377CB489C9F52A303F3860.d.D8948F7018BD35FE4C7B92EEB3DF77A8.e.57\")>,\n",
       " <selenium.webdriver.remote.webelement.WebElement (session=\"b63d7784f48affe6d9e7e77dbbe53158\", element=\"f.642F2D13C2377CB489C9F52A303F3860.d.D8948F7018BD35FE4C7B92EEB3DF77A8.e.58\")>,\n",
       " <selenium.webdriver.remote.webelement.WebElement (session=\"b63d7784f48affe6d9e7e77dbbe53158\", element=\"f.642F2D13C2377CB489C9F52A303F3860.d.D8948F7018BD35FE4C7B92EEB3DF77A8.e.59\")>,\n",
       " <selenium.webdriver.remote.webelement.WebElement (session=\"b63d7784f48affe6d9e7e77dbbe53158\", element=\"f.642F2D13C2377CB489C9F52A303F3860.d.D8948F7018BD35FE4C7B92EEB3DF77A8.e.60\")>,\n",
       " <selenium.webdriver.remote.webelement.WebElement (session=\"b63d7784f48affe6d9e7e77dbbe53158\", element=\"f.642F2D13C2377CB489C9F52A303F3860.d.D8948F7018BD35FE4C7B92EEB3DF77A8.e.61\")>,\n",
       " <selenium.webdriver.remote.webelement.WebElement (session=\"b63d7784f48affe6d9e7e77dbbe53158\", element=\"f.642F2D13C2377CB489C9F52A303F3860.d.D8948F7018BD35FE4C7B92EEB3DF77A8.e.62\")>]"
      ]
     },
     "execution_count": 34,
     "metadata": {},
     "output_type": "execute_result"
    }
   ],
   "source": [
    "img = driver.find_elements(By.CLASS_NAME, 'image__lazy.image__load')\n",
    "img"
   ]
  },
  {
   "cell_type": "code",
   "execution_count": 35,
   "id": "a6d9cc6e",
   "metadata": {},
   "outputs": [],
   "source": [
    "img[2].click()"
   ]
  },
  {
   "cell_type": "code",
   "execution_count": 44,
   "id": "14892844",
   "metadata": {
    "collapsed": true
   },
   "outputs": [
    {
     "ename": "KeyboardInterrupt",
     "evalue": "",
     "output_type": "error",
     "traceback": [
      "\u001b[1;31m---------------------------------------------------------------------------\u001b[0m",
      "\u001b[1;31mConnectionRefusedError\u001b[0m                    Traceback (most recent call last)",
      "File \u001b[1;32m~\\anaconda3\\Lib\\site-packages\\urllib3\\util\\connection.py:85\u001b[0m, in \u001b[0;36mcreate_connection\u001b[1;34m(address, timeout, source_address, socket_options)\u001b[0m\n\u001b[0;32m     84\u001b[0m     sock\u001b[38;5;241m.\u001b[39mbind(source_address)\n\u001b[1;32m---> 85\u001b[0m sock\u001b[38;5;241m.\u001b[39mconnect(sa)\n\u001b[0;32m     86\u001b[0m \u001b[38;5;28;01mreturn\u001b[39;00m sock\n",
      "\u001b[1;31mConnectionRefusedError\u001b[0m: [WinError 10061] 대상 컴퓨터에서 연결을 거부했으므로 연결하지 못했습니다",
      "\nDuring handling of the above exception, another exception occurred:\n",
      "\u001b[1;31mKeyboardInterrupt\u001b[0m                         Traceback (most recent call last)",
      "Cell \u001b[1;32mIn[44], line 1\u001b[0m\n\u001b[1;32m----> 1\u001b[0m cate \u001b[38;5;241m=\u001b[39m driver\u001b[38;5;241m.\u001b[39mfind_element(By\u001b[38;5;241m.\u001b[39mCSS_SELECTOR, \u001b[38;5;124m'\u001b[39m\u001b[38;5;124mdiv.location-navi > ul > li.on > a\u001b[39m\u001b[38;5;124m'\u001b[39m)\u001b[38;5;241m.\u001b[39mtext\n\u001b[0;32m      2\u001b[0m cate\n",
      "File \u001b[1;32m~\\anaconda3\\Lib\\site-packages\\selenium\\webdriver\\remote\\webdriver.py:741\u001b[0m, in \u001b[0;36mWebDriver.find_element\u001b[1;34m(self, by, value)\u001b[0m\n\u001b[0;32m    738\u001b[0m     by \u001b[38;5;241m=\u001b[39m By\u001b[38;5;241m.\u001b[39mCSS_SELECTOR\n\u001b[0;32m    739\u001b[0m     value \u001b[38;5;241m=\u001b[39m \u001b[38;5;124mf\u001b[39m\u001b[38;5;124m'\u001b[39m\u001b[38;5;124m[name=\u001b[39m\u001b[38;5;124m\"\u001b[39m\u001b[38;5;132;01m{\u001b[39;00mvalue\u001b[38;5;132;01m}\u001b[39;00m\u001b[38;5;124m\"\u001b[39m\u001b[38;5;124m]\u001b[39m\u001b[38;5;124m'\u001b[39m\n\u001b[1;32m--> 741\u001b[0m \u001b[38;5;28;01mreturn\u001b[39;00m \u001b[38;5;28mself\u001b[39m\u001b[38;5;241m.\u001b[39mexecute(Command\u001b[38;5;241m.\u001b[39mFIND_ELEMENT, {\u001b[38;5;124m\"\u001b[39m\u001b[38;5;124musing\u001b[39m\u001b[38;5;124m\"\u001b[39m: by, \u001b[38;5;124m\"\u001b[39m\u001b[38;5;124mvalue\u001b[39m\u001b[38;5;124m\"\u001b[39m: value})[\u001b[38;5;124m\"\u001b[39m\u001b[38;5;124mvalue\u001b[39m\u001b[38;5;124m\"\u001b[39m]\n",
      "File \u001b[1;32m~\\anaconda3\\Lib\\site-packages\\selenium\\webdriver\\remote\\webdriver.py:345\u001b[0m, in \u001b[0;36mWebDriver.execute\u001b[1;34m(self, driver_command, params)\u001b[0m\n\u001b[0;32m    342\u001b[0m     \u001b[38;5;28;01melif\u001b[39;00m \u001b[38;5;124m\"\u001b[39m\u001b[38;5;124msessionId\u001b[39m\u001b[38;5;124m\"\u001b[39m \u001b[38;5;129;01mnot\u001b[39;00m \u001b[38;5;129;01min\u001b[39;00m params:\n\u001b[0;32m    343\u001b[0m         params[\u001b[38;5;124m\"\u001b[39m\u001b[38;5;124msessionId\u001b[39m\u001b[38;5;124m\"\u001b[39m] \u001b[38;5;241m=\u001b[39m \u001b[38;5;28mself\u001b[39m\u001b[38;5;241m.\u001b[39msession_id\n\u001b[1;32m--> 345\u001b[0m response \u001b[38;5;241m=\u001b[39m \u001b[38;5;28mself\u001b[39m\u001b[38;5;241m.\u001b[39mcommand_executor\u001b[38;5;241m.\u001b[39mexecute(driver_command, params)\n\u001b[0;32m    346\u001b[0m \u001b[38;5;28;01mif\u001b[39;00m response:\n\u001b[0;32m    347\u001b[0m     \u001b[38;5;28mself\u001b[39m\u001b[38;5;241m.\u001b[39merror_handler\u001b[38;5;241m.\u001b[39mcheck_response(response)\n",
      "File \u001b[1;32m~\\anaconda3\\Lib\\site-packages\\selenium\\webdriver\\remote\\remote_connection.py:302\u001b[0m, in \u001b[0;36mRemoteConnection.execute\u001b[1;34m(self, command, params)\u001b[0m\n\u001b[0;32m    300\u001b[0m trimmed \u001b[38;5;241m=\u001b[39m \u001b[38;5;28mself\u001b[39m\u001b[38;5;241m.\u001b[39m_trim_large_entries(params)\n\u001b[0;32m    301\u001b[0m LOGGER\u001b[38;5;241m.\u001b[39mdebug(\u001b[38;5;124m\"\u001b[39m\u001b[38;5;132;01m%s\u001b[39;00m\u001b[38;5;124m \u001b[39m\u001b[38;5;132;01m%s\u001b[39;00m\u001b[38;5;124m \u001b[39m\u001b[38;5;132;01m%s\u001b[39;00m\u001b[38;5;124m\"\u001b[39m, command_info[\u001b[38;5;241m0\u001b[39m], url, \u001b[38;5;28mstr\u001b[39m(trimmed))\n\u001b[1;32m--> 302\u001b[0m \u001b[38;5;28;01mreturn\u001b[39;00m \u001b[38;5;28mself\u001b[39m\u001b[38;5;241m.\u001b[39m_request(command_info[\u001b[38;5;241m0\u001b[39m], url, body\u001b[38;5;241m=\u001b[39mdata)\n",
      "File \u001b[1;32m~\\anaconda3\\Lib\\site-packages\\selenium\\webdriver\\remote\\remote_connection.py:322\u001b[0m, in \u001b[0;36mRemoteConnection._request\u001b[1;34m(self, method, url, body)\u001b[0m\n\u001b[0;32m    319\u001b[0m     body \u001b[38;5;241m=\u001b[39m \u001b[38;5;28;01mNone\u001b[39;00m\n\u001b[0;32m    321\u001b[0m \u001b[38;5;28;01mif\u001b[39;00m \u001b[38;5;28mself\u001b[39m\u001b[38;5;241m.\u001b[39mkeep_alive:\n\u001b[1;32m--> 322\u001b[0m     response \u001b[38;5;241m=\u001b[39m \u001b[38;5;28mself\u001b[39m\u001b[38;5;241m.\u001b[39m_conn\u001b[38;5;241m.\u001b[39mrequest(method, url, body\u001b[38;5;241m=\u001b[39mbody, headers\u001b[38;5;241m=\u001b[39mheaders)\n\u001b[0;32m    323\u001b[0m     statuscode \u001b[38;5;241m=\u001b[39m response\u001b[38;5;241m.\u001b[39mstatus\n\u001b[0;32m    324\u001b[0m \u001b[38;5;28;01melse\u001b[39;00m:\n",
      "File \u001b[1;32m~\\anaconda3\\Lib\\site-packages\\urllib3\\request.py:78\u001b[0m, in \u001b[0;36mRequestMethods.request\u001b[1;34m(self, method, url, fields, headers, **urlopen_kw)\u001b[0m\n\u001b[0;32m     74\u001b[0m     \u001b[38;5;28;01mreturn\u001b[39;00m \u001b[38;5;28mself\u001b[39m\u001b[38;5;241m.\u001b[39mrequest_encode_url(\n\u001b[0;32m     75\u001b[0m         method, url, fields\u001b[38;5;241m=\u001b[39mfields, headers\u001b[38;5;241m=\u001b[39mheaders, \u001b[38;5;241m*\u001b[39m\u001b[38;5;241m*\u001b[39murlopen_kw\n\u001b[0;32m     76\u001b[0m     )\n\u001b[0;32m     77\u001b[0m \u001b[38;5;28;01melse\u001b[39;00m:\n\u001b[1;32m---> 78\u001b[0m     \u001b[38;5;28;01mreturn\u001b[39;00m \u001b[38;5;28mself\u001b[39m\u001b[38;5;241m.\u001b[39mrequest_encode_body(\n\u001b[0;32m     79\u001b[0m         method, url, fields\u001b[38;5;241m=\u001b[39mfields, headers\u001b[38;5;241m=\u001b[39mheaders, \u001b[38;5;241m*\u001b[39m\u001b[38;5;241m*\u001b[39murlopen_kw\n\u001b[0;32m     80\u001b[0m     )\n",
      "File \u001b[1;32m~\\anaconda3\\Lib\\site-packages\\urllib3\\request.py:170\u001b[0m, in \u001b[0;36mRequestMethods.request_encode_body\u001b[1;34m(self, method, url, fields, headers, encode_multipart, multipart_boundary, **urlopen_kw)\u001b[0m\n\u001b[0;32m    167\u001b[0m extra_kw[\u001b[38;5;124m\"\u001b[39m\u001b[38;5;124mheaders\u001b[39m\u001b[38;5;124m\"\u001b[39m]\u001b[38;5;241m.\u001b[39mupdate(headers)\n\u001b[0;32m    168\u001b[0m extra_kw\u001b[38;5;241m.\u001b[39mupdate(urlopen_kw)\n\u001b[1;32m--> 170\u001b[0m \u001b[38;5;28;01mreturn\u001b[39;00m \u001b[38;5;28mself\u001b[39m\u001b[38;5;241m.\u001b[39murlopen(method, url, \u001b[38;5;241m*\u001b[39m\u001b[38;5;241m*\u001b[39mextra_kw)\n",
      "File \u001b[1;32m~\\anaconda3\\Lib\\site-packages\\urllib3\\poolmanager.py:376\u001b[0m, in \u001b[0;36mPoolManager.urlopen\u001b[1;34m(self, method, url, redirect, **kw)\u001b[0m\n\u001b[0;32m    374\u001b[0m     response \u001b[38;5;241m=\u001b[39m conn\u001b[38;5;241m.\u001b[39murlopen(method, url, \u001b[38;5;241m*\u001b[39m\u001b[38;5;241m*\u001b[39mkw)\n\u001b[0;32m    375\u001b[0m \u001b[38;5;28;01melse\u001b[39;00m:\n\u001b[1;32m--> 376\u001b[0m     response \u001b[38;5;241m=\u001b[39m conn\u001b[38;5;241m.\u001b[39murlopen(method, u\u001b[38;5;241m.\u001b[39mrequest_uri, \u001b[38;5;241m*\u001b[39m\u001b[38;5;241m*\u001b[39mkw)\n\u001b[0;32m    378\u001b[0m redirect_location \u001b[38;5;241m=\u001b[39m redirect \u001b[38;5;129;01mand\u001b[39;00m response\u001b[38;5;241m.\u001b[39mget_redirect_location()\n\u001b[0;32m    379\u001b[0m \u001b[38;5;28;01mif\u001b[39;00m \u001b[38;5;129;01mnot\u001b[39;00m redirect_location:\n",
      "File \u001b[1;32m~\\anaconda3\\Lib\\site-packages\\urllib3\\connectionpool.py:826\u001b[0m, in \u001b[0;36mHTTPConnectionPool.urlopen\u001b[1;34m(self, method, url, body, headers, retries, redirect, assert_same_host, timeout, pool_timeout, release_conn, chunked, body_pos, **response_kw)\u001b[0m\n\u001b[0;32m    821\u001b[0m \u001b[38;5;28;01mif\u001b[39;00m \u001b[38;5;129;01mnot\u001b[39;00m conn:\n\u001b[0;32m    822\u001b[0m     \u001b[38;5;66;03m# Try again\u001b[39;00m\n\u001b[0;32m    823\u001b[0m     log\u001b[38;5;241m.\u001b[39mwarning(\n\u001b[0;32m    824\u001b[0m         \u001b[38;5;124m\"\u001b[39m\u001b[38;5;124mRetrying (\u001b[39m\u001b[38;5;132;01m%r\u001b[39;00m\u001b[38;5;124m) after connection broken by \u001b[39m\u001b[38;5;124m'\u001b[39m\u001b[38;5;132;01m%r\u001b[39;00m\u001b[38;5;124m'\u001b[39m\u001b[38;5;124m: \u001b[39m\u001b[38;5;132;01m%s\u001b[39;00m\u001b[38;5;124m\"\u001b[39m, retries, err, url\n\u001b[0;32m    825\u001b[0m     )\n\u001b[1;32m--> 826\u001b[0m     \u001b[38;5;28;01mreturn\u001b[39;00m \u001b[38;5;28mself\u001b[39m\u001b[38;5;241m.\u001b[39murlopen(\n\u001b[0;32m    827\u001b[0m         method,\n\u001b[0;32m    828\u001b[0m         url,\n\u001b[0;32m    829\u001b[0m         body,\n\u001b[0;32m    830\u001b[0m         headers,\n\u001b[0;32m    831\u001b[0m         retries,\n\u001b[0;32m    832\u001b[0m         redirect,\n\u001b[0;32m    833\u001b[0m         assert_same_host,\n\u001b[0;32m    834\u001b[0m         timeout\u001b[38;5;241m=\u001b[39mtimeout,\n\u001b[0;32m    835\u001b[0m         pool_timeout\u001b[38;5;241m=\u001b[39mpool_timeout,\n\u001b[0;32m    836\u001b[0m         release_conn\u001b[38;5;241m=\u001b[39mrelease_conn,\n\u001b[0;32m    837\u001b[0m         chunked\u001b[38;5;241m=\u001b[39mchunked,\n\u001b[0;32m    838\u001b[0m         body_pos\u001b[38;5;241m=\u001b[39mbody_pos,\n\u001b[0;32m    839\u001b[0m         \u001b[38;5;241m*\u001b[39m\u001b[38;5;241m*\u001b[39mresponse_kw\n\u001b[0;32m    840\u001b[0m     )\n\u001b[0;32m    842\u001b[0m \u001b[38;5;66;03m# Handle redirect?\u001b[39;00m\n\u001b[0;32m    843\u001b[0m redirect_location \u001b[38;5;241m=\u001b[39m redirect \u001b[38;5;129;01mand\u001b[39;00m response\u001b[38;5;241m.\u001b[39mget_redirect_location()\n",
      "File \u001b[1;32m~\\anaconda3\\Lib\\site-packages\\urllib3\\connectionpool.py:714\u001b[0m, in \u001b[0;36mHTTPConnectionPool.urlopen\u001b[1;34m(self, method, url, body, headers, retries, redirect, assert_same_host, timeout, pool_timeout, release_conn, chunked, body_pos, **response_kw)\u001b[0m\n\u001b[0;32m    711\u001b[0m     \u001b[38;5;28mself\u001b[39m\u001b[38;5;241m.\u001b[39m_prepare_proxy(conn)\n\u001b[0;32m    713\u001b[0m \u001b[38;5;66;03m# Make the request on the httplib connection object.\u001b[39;00m\n\u001b[1;32m--> 714\u001b[0m httplib_response \u001b[38;5;241m=\u001b[39m \u001b[38;5;28mself\u001b[39m\u001b[38;5;241m.\u001b[39m_make_request(\n\u001b[0;32m    715\u001b[0m     conn,\n\u001b[0;32m    716\u001b[0m     method,\n\u001b[0;32m    717\u001b[0m     url,\n\u001b[0;32m    718\u001b[0m     timeout\u001b[38;5;241m=\u001b[39mtimeout_obj,\n\u001b[0;32m    719\u001b[0m     body\u001b[38;5;241m=\u001b[39mbody,\n\u001b[0;32m    720\u001b[0m     headers\u001b[38;5;241m=\u001b[39mheaders,\n\u001b[0;32m    721\u001b[0m     chunked\u001b[38;5;241m=\u001b[39mchunked,\n\u001b[0;32m    722\u001b[0m )\n\u001b[0;32m    724\u001b[0m \u001b[38;5;66;03m# If we're going to release the connection in ``finally:``, then\u001b[39;00m\n\u001b[0;32m    725\u001b[0m \u001b[38;5;66;03m# the response doesn't need to know about the connection. Otherwise\u001b[39;00m\n\u001b[0;32m    726\u001b[0m \u001b[38;5;66;03m# it will also try to release it and we'll have a double-release\u001b[39;00m\n\u001b[0;32m    727\u001b[0m \u001b[38;5;66;03m# mess.\u001b[39;00m\n\u001b[0;32m    728\u001b[0m response_conn \u001b[38;5;241m=\u001b[39m conn \u001b[38;5;28;01mif\u001b[39;00m \u001b[38;5;129;01mnot\u001b[39;00m release_conn \u001b[38;5;28;01melse\u001b[39;00m \u001b[38;5;28;01mNone\u001b[39;00m\n",
      "File \u001b[1;32m~\\anaconda3\\Lib\\site-packages\\urllib3\\connectionpool.py:415\u001b[0m, in \u001b[0;36mHTTPConnectionPool._make_request\u001b[1;34m(self, conn, method, url, timeout, chunked, **httplib_request_kw)\u001b[0m\n\u001b[0;32m    413\u001b[0m         conn\u001b[38;5;241m.\u001b[39mrequest_chunked(method, url, \u001b[38;5;241m*\u001b[39m\u001b[38;5;241m*\u001b[39mhttplib_request_kw)\n\u001b[0;32m    414\u001b[0m     \u001b[38;5;28;01melse\u001b[39;00m:\n\u001b[1;32m--> 415\u001b[0m         conn\u001b[38;5;241m.\u001b[39mrequest(method, url, \u001b[38;5;241m*\u001b[39m\u001b[38;5;241m*\u001b[39mhttplib_request_kw)\n\u001b[0;32m    417\u001b[0m \u001b[38;5;66;03m# We are swallowing BrokenPipeError (errno.EPIPE) since the server is\u001b[39;00m\n\u001b[0;32m    418\u001b[0m \u001b[38;5;66;03m# legitimately able to close the connection after sending a valid response.\u001b[39;00m\n\u001b[0;32m    419\u001b[0m \u001b[38;5;66;03m# With this behaviour, the received response is still readable.\u001b[39;00m\n\u001b[0;32m    420\u001b[0m \u001b[38;5;28;01mexcept\u001b[39;00m \u001b[38;5;167;01mBrokenPipeError\u001b[39;00m:\n\u001b[0;32m    421\u001b[0m     \u001b[38;5;66;03m# Python 3\u001b[39;00m\n",
      "File \u001b[1;32m~\\anaconda3\\Lib\\site-packages\\urllib3\\connection.py:244\u001b[0m, in \u001b[0;36mHTTPConnection.request\u001b[1;34m(self, method, url, body, headers)\u001b[0m\n\u001b[0;32m    242\u001b[0m \u001b[38;5;28;01mif\u001b[39;00m \u001b[38;5;124m\"\u001b[39m\u001b[38;5;124muser-agent\u001b[39m\u001b[38;5;124m\"\u001b[39m \u001b[38;5;129;01mnot\u001b[39;00m \u001b[38;5;129;01min\u001b[39;00m (six\u001b[38;5;241m.\u001b[39mensure_str(k\u001b[38;5;241m.\u001b[39mlower()) \u001b[38;5;28;01mfor\u001b[39;00m k \u001b[38;5;129;01min\u001b[39;00m headers):\n\u001b[0;32m    243\u001b[0m     headers[\u001b[38;5;124m\"\u001b[39m\u001b[38;5;124mUser-Agent\u001b[39m\u001b[38;5;124m\"\u001b[39m] \u001b[38;5;241m=\u001b[39m _get_default_user_agent()\n\u001b[1;32m--> 244\u001b[0m \u001b[38;5;28msuper\u001b[39m(HTTPConnection, \u001b[38;5;28mself\u001b[39m)\u001b[38;5;241m.\u001b[39mrequest(method, url, body\u001b[38;5;241m=\u001b[39mbody, headers\u001b[38;5;241m=\u001b[39mheaders)\n",
      "File \u001b[1;32m~\\anaconda3\\Lib\\http\\client.py:1286\u001b[0m, in \u001b[0;36mHTTPConnection.request\u001b[1;34m(self, method, url, body, headers, encode_chunked)\u001b[0m\n\u001b[0;32m   1283\u001b[0m \u001b[38;5;28;01mdef\u001b[39;00m \u001b[38;5;21mrequest\u001b[39m(\u001b[38;5;28mself\u001b[39m, method, url, body\u001b[38;5;241m=\u001b[39m\u001b[38;5;28;01mNone\u001b[39;00m, headers\u001b[38;5;241m=\u001b[39m{}, \u001b[38;5;241m*\u001b[39m,\n\u001b[0;32m   1284\u001b[0m             encode_chunked\u001b[38;5;241m=\u001b[39m\u001b[38;5;28;01mFalse\u001b[39;00m):\n\u001b[0;32m   1285\u001b[0m \u001b[38;5;250m    \u001b[39m\u001b[38;5;124;03m\"\"\"Send a complete request to the server.\"\"\"\u001b[39;00m\n\u001b[1;32m-> 1286\u001b[0m     \u001b[38;5;28mself\u001b[39m\u001b[38;5;241m.\u001b[39m_send_request(method, url, body, headers, encode_chunked)\n",
      "File \u001b[1;32m~\\anaconda3\\Lib\\http\\client.py:1332\u001b[0m, in \u001b[0;36mHTTPConnection._send_request\u001b[1;34m(self, method, url, body, headers, encode_chunked)\u001b[0m\n\u001b[0;32m   1328\u001b[0m \u001b[38;5;28;01mif\u001b[39;00m \u001b[38;5;28misinstance\u001b[39m(body, \u001b[38;5;28mstr\u001b[39m):\n\u001b[0;32m   1329\u001b[0m     \u001b[38;5;66;03m# RFC 2616 Section 3.7.1 says that text default has a\u001b[39;00m\n\u001b[0;32m   1330\u001b[0m     \u001b[38;5;66;03m# default charset of iso-8859-1.\u001b[39;00m\n\u001b[0;32m   1331\u001b[0m     body \u001b[38;5;241m=\u001b[39m _encode(body, \u001b[38;5;124m'\u001b[39m\u001b[38;5;124mbody\u001b[39m\u001b[38;5;124m'\u001b[39m)\n\u001b[1;32m-> 1332\u001b[0m \u001b[38;5;28mself\u001b[39m\u001b[38;5;241m.\u001b[39mendheaders(body, encode_chunked\u001b[38;5;241m=\u001b[39mencode_chunked)\n",
      "File \u001b[1;32m~\\anaconda3\\Lib\\http\\client.py:1281\u001b[0m, in \u001b[0;36mHTTPConnection.endheaders\u001b[1;34m(self, message_body, encode_chunked)\u001b[0m\n\u001b[0;32m   1279\u001b[0m \u001b[38;5;28;01melse\u001b[39;00m:\n\u001b[0;32m   1280\u001b[0m     \u001b[38;5;28;01mraise\u001b[39;00m CannotSendHeader()\n\u001b[1;32m-> 1281\u001b[0m \u001b[38;5;28mself\u001b[39m\u001b[38;5;241m.\u001b[39m_send_output(message_body, encode_chunked\u001b[38;5;241m=\u001b[39mencode_chunked)\n",
      "File \u001b[1;32m~\\anaconda3\\Lib\\http\\client.py:1041\u001b[0m, in \u001b[0;36mHTTPConnection._send_output\u001b[1;34m(self, message_body, encode_chunked)\u001b[0m\n\u001b[0;32m   1039\u001b[0m msg \u001b[38;5;241m=\u001b[39m \u001b[38;5;124mb\u001b[39m\u001b[38;5;124m\"\u001b[39m\u001b[38;5;130;01m\\r\u001b[39;00m\u001b[38;5;130;01m\\n\u001b[39;00m\u001b[38;5;124m\"\u001b[39m\u001b[38;5;241m.\u001b[39mjoin(\u001b[38;5;28mself\u001b[39m\u001b[38;5;241m.\u001b[39m_buffer)\n\u001b[0;32m   1040\u001b[0m \u001b[38;5;28;01mdel\u001b[39;00m \u001b[38;5;28mself\u001b[39m\u001b[38;5;241m.\u001b[39m_buffer[:]\n\u001b[1;32m-> 1041\u001b[0m \u001b[38;5;28mself\u001b[39m\u001b[38;5;241m.\u001b[39msend(msg)\n\u001b[0;32m   1043\u001b[0m \u001b[38;5;28;01mif\u001b[39;00m message_body \u001b[38;5;129;01mis\u001b[39;00m \u001b[38;5;129;01mnot\u001b[39;00m \u001b[38;5;28;01mNone\u001b[39;00m:\n\u001b[0;32m   1044\u001b[0m \n\u001b[0;32m   1045\u001b[0m     \u001b[38;5;66;03m# create a consistent interface to message_body\u001b[39;00m\n\u001b[0;32m   1046\u001b[0m     \u001b[38;5;28;01mif\u001b[39;00m \u001b[38;5;28mhasattr\u001b[39m(message_body, \u001b[38;5;124m'\u001b[39m\u001b[38;5;124mread\u001b[39m\u001b[38;5;124m'\u001b[39m):\n\u001b[0;32m   1047\u001b[0m         \u001b[38;5;66;03m# Let file-like take precedence over byte-like.  This\u001b[39;00m\n\u001b[0;32m   1048\u001b[0m         \u001b[38;5;66;03m# is needed to allow the current position of mmap'ed\u001b[39;00m\n\u001b[0;32m   1049\u001b[0m         \u001b[38;5;66;03m# files to be taken into account.\u001b[39;00m\n",
      "File \u001b[1;32m~\\anaconda3\\Lib\\http\\client.py:979\u001b[0m, in \u001b[0;36mHTTPConnection.send\u001b[1;34m(self, data)\u001b[0m\n\u001b[0;32m    977\u001b[0m \u001b[38;5;28;01mif\u001b[39;00m \u001b[38;5;28mself\u001b[39m\u001b[38;5;241m.\u001b[39msock \u001b[38;5;129;01mis\u001b[39;00m \u001b[38;5;28;01mNone\u001b[39;00m:\n\u001b[0;32m    978\u001b[0m     \u001b[38;5;28;01mif\u001b[39;00m \u001b[38;5;28mself\u001b[39m\u001b[38;5;241m.\u001b[39mauto_open:\n\u001b[1;32m--> 979\u001b[0m         \u001b[38;5;28mself\u001b[39m\u001b[38;5;241m.\u001b[39mconnect()\n\u001b[0;32m    980\u001b[0m     \u001b[38;5;28;01melse\u001b[39;00m:\n\u001b[0;32m    981\u001b[0m         \u001b[38;5;28;01mraise\u001b[39;00m NotConnected()\n",
      "File \u001b[1;32m~\\anaconda3\\Lib\\site-packages\\urllib3\\connection.py:205\u001b[0m, in \u001b[0;36mHTTPConnection.connect\u001b[1;34m(self)\u001b[0m\n\u001b[0;32m    204\u001b[0m \u001b[38;5;28;01mdef\u001b[39;00m \u001b[38;5;21mconnect\u001b[39m(\u001b[38;5;28mself\u001b[39m):\n\u001b[1;32m--> 205\u001b[0m     conn \u001b[38;5;241m=\u001b[39m \u001b[38;5;28mself\u001b[39m\u001b[38;5;241m.\u001b[39m_new_conn()\n\u001b[0;32m    206\u001b[0m     \u001b[38;5;28mself\u001b[39m\u001b[38;5;241m.\u001b[39m_prepare_conn(conn)\n",
      "File \u001b[1;32m~\\anaconda3\\Lib\\site-packages\\urllib3\\connection.py:174\u001b[0m, in \u001b[0;36mHTTPConnection._new_conn\u001b[1;34m(self)\u001b[0m\n\u001b[0;32m    171\u001b[0m     extra_kw[\u001b[38;5;124m\"\u001b[39m\u001b[38;5;124msocket_options\u001b[39m\u001b[38;5;124m\"\u001b[39m] \u001b[38;5;241m=\u001b[39m \u001b[38;5;28mself\u001b[39m\u001b[38;5;241m.\u001b[39msocket_options\n\u001b[0;32m    173\u001b[0m \u001b[38;5;28;01mtry\u001b[39;00m:\n\u001b[1;32m--> 174\u001b[0m     conn \u001b[38;5;241m=\u001b[39m connection\u001b[38;5;241m.\u001b[39mcreate_connection(\n\u001b[0;32m    175\u001b[0m         (\u001b[38;5;28mself\u001b[39m\u001b[38;5;241m.\u001b[39m_dns_host, \u001b[38;5;28mself\u001b[39m\u001b[38;5;241m.\u001b[39mport), \u001b[38;5;28mself\u001b[39m\u001b[38;5;241m.\u001b[39mtimeout, \u001b[38;5;241m*\u001b[39m\u001b[38;5;241m*\u001b[39mextra_kw\n\u001b[0;32m    176\u001b[0m     )\n\u001b[0;32m    178\u001b[0m \u001b[38;5;28;01mexcept\u001b[39;00m SocketTimeout:\n\u001b[0;32m    179\u001b[0m     \u001b[38;5;28;01mraise\u001b[39;00m ConnectTimeoutError(\n\u001b[0;32m    180\u001b[0m         \u001b[38;5;28mself\u001b[39m,\n\u001b[0;32m    181\u001b[0m         \u001b[38;5;124m\"\u001b[39m\u001b[38;5;124mConnection to \u001b[39m\u001b[38;5;132;01m%s\u001b[39;00m\u001b[38;5;124m timed out. (connect timeout=\u001b[39m\u001b[38;5;132;01m%s\u001b[39;00m\u001b[38;5;124m)\u001b[39m\u001b[38;5;124m\"\u001b[39m\n\u001b[0;32m    182\u001b[0m         \u001b[38;5;241m%\u001b[39m (\u001b[38;5;28mself\u001b[39m\u001b[38;5;241m.\u001b[39mhost, \u001b[38;5;28mself\u001b[39m\u001b[38;5;241m.\u001b[39mtimeout),\n\u001b[0;32m    183\u001b[0m     )\n",
      "File \u001b[1;32m~\\anaconda3\\Lib\\site-packages\\urllib3\\util\\connection.py:91\u001b[0m, in \u001b[0;36mcreate_connection\u001b[1;34m(address, timeout, source_address, socket_options)\u001b[0m\n\u001b[0;32m     89\u001b[0m         err \u001b[38;5;241m=\u001b[39m e\n\u001b[0;32m     90\u001b[0m         \u001b[38;5;28;01mif\u001b[39;00m sock \u001b[38;5;129;01mis\u001b[39;00m \u001b[38;5;129;01mnot\u001b[39;00m \u001b[38;5;28;01mNone\u001b[39;00m:\n\u001b[1;32m---> 91\u001b[0m             sock\u001b[38;5;241m.\u001b[39mclose()\n\u001b[0;32m     92\u001b[0m             sock \u001b[38;5;241m=\u001b[39m \u001b[38;5;28;01mNone\u001b[39;00m\n\u001b[0;32m     94\u001b[0m \u001b[38;5;28;01mif\u001b[39;00m err \u001b[38;5;129;01mis\u001b[39;00m \u001b[38;5;129;01mnot\u001b[39;00m \u001b[38;5;28;01mNone\u001b[39;00m:\n",
      "File \u001b[1;32m~\\anaconda3\\Lib\\socket.py:499\u001b[0m, in \u001b[0;36msocket.close\u001b[1;34m(self)\u001b[0m\n\u001b[0;32m    495\u001b[0m \u001b[38;5;28;01mdef\u001b[39;00m \u001b[38;5;21m_real_close\u001b[39m(\u001b[38;5;28mself\u001b[39m, _ss\u001b[38;5;241m=\u001b[39m_socket\u001b[38;5;241m.\u001b[39msocket):\n\u001b[0;32m    496\u001b[0m     \u001b[38;5;66;03m# This function should not reference any globals. See issue #808164.\u001b[39;00m\n\u001b[0;32m    497\u001b[0m     _ss\u001b[38;5;241m.\u001b[39mclose(\u001b[38;5;28mself\u001b[39m)\n\u001b[1;32m--> 499\u001b[0m \u001b[38;5;28;01mdef\u001b[39;00m \u001b[38;5;21mclose\u001b[39m(\u001b[38;5;28mself\u001b[39m):\n\u001b[0;32m    500\u001b[0m     \u001b[38;5;66;03m# This function should not reference any globals. See issue #808164.\u001b[39;00m\n\u001b[0;32m    501\u001b[0m     \u001b[38;5;28mself\u001b[39m\u001b[38;5;241m.\u001b[39m_closed \u001b[38;5;241m=\u001b[39m \u001b[38;5;28;01mTrue\u001b[39;00m\n\u001b[0;32m    502\u001b[0m     \u001b[38;5;28;01mif\u001b[39;00m \u001b[38;5;28mself\u001b[39m\u001b[38;5;241m.\u001b[39m_io_refs \u001b[38;5;241m<\u001b[39m\u001b[38;5;241m=\u001b[39m \u001b[38;5;241m0\u001b[39m:\n",
      "\u001b[1;31mKeyboardInterrupt\u001b[0m: "
     ]
    }
   ],
   "source": [
    "cate = driver.find_element(By.CSS_SELECTOR, 'div.location-navi > ul > li.on > a').text\n",
    "cate"
   ]
  },
  {
   "cell_type": "code",
   "execution_count": 25,
   "id": "af86b7bb",
   "metadata": {},
   "outputs": [
    {
     "data": {
      "text/plain": [
       "'((단하루 10%+10%쿠폰)) 시크릿무드 역마진 파격SALE/바람막이/자켓/원피스/니트/팬츠 외 미시룩BEST'"
      ]
     },
     "execution_count": 25,
     "metadata": {},
     "output_type": "execute_result"
    }
   ],
   "source": [
    "title = driver.find_element(By.CLASS_NAME, 'itemtit').text\n",
    "title"
   ]
  },
  {
   "cell_type": "code",
   "execution_count": 26,
   "id": "29fbb8ee",
   "metadata": {},
   "outputs": [
    {
     "data": {
      "text/plain": [
       "'9,900원'"
      ]
     },
     "execution_count": 26,
     "metadata": {},
     "output_type": "execute_result"
    }
   ],
   "source": [
    "price = driver.find_element(By.CLASS_NAME, 'price_real').text\n",
    "price"
   ]
  },
  {
   "cell_type": "code",
   "execution_count": 45,
   "id": "40544ea6",
   "metadata": {
    "collapsed": true
   },
   "outputs": [
    {
     "ename": "KeyboardInterrupt",
     "evalue": "",
     "output_type": "error",
     "traceback": [
      "\u001b[1;31m---------------------------------------------------------------------------\u001b[0m",
      "\u001b[1;31mKeyboardInterrupt\u001b[0m                         Traceback (most recent call last)",
      "Cell \u001b[1;32mIn[45], line 2\u001b[0m\n\u001b[0;32m      1\u001b[0m driver \u001b[38;5;241m=\u001b[39m wb\u001b[38;5;241m.\u001b[39mChrome()\n\u001b[1;32m----> 2\u001b[0m driver\u001b[38;5;241m.\u001b[39mget(\u001b[38;5;124m'\u001b[39m\u001b[38;5;124mhttps://www.gmarket.co.kr/n/best\u001b[39m\u001b[38;5;124m'\u001b[39m)\n\u001b[0;32m      3\u001b[0m img \u001b[38;5;241m=\u001b[39m driver\u001b[38;5;241m.\u001b[39mfind_elements(By\u001b[38;5;241m.\u001b[39mCLASS_NAME, \u001b[38;5;124m'\u001b[39m\u001b[38;5;124mimage__lazy.image__load\u001b[39m\u001b[38;5;124m'\u001b[39m)\n\u001b[0;32m      5\u001b[0m cate_lst \u001b[38;5;241m=\u001b[39m []\n",
      "File \u001b[1;32m~\\anaconda3\\Lib\\site-packages\\selenium\\webdriver\\remote\\webdriver.py:356\u001b[0m, in \u001b[0;36mWebDriver.get\u001b[1;34m(self, url)\u001b[0m\n\u001b[0;32m    354\u001b[0m \u001b[38;5;28;01mdef\u001b[39;00m \u001b[38;5;21mget\u001b[39m(\u001b[38;5;28mself\u001b[39m, url: \u001b[38;5;28mstr\u001b[39m) \u001b[38;5;241m-\u001b[39m\u001b[38;5;241m>\u001b[39m \u001b[38;5;28;01mNone\u001b[39;00m:\n\u001b[0;32m    355\u001b[0m \u001b[38;5;250m    \u001b[39m\u001b[38;5;124;03m\"\"\"Loads a web page in the current browser session.\"\"\"\u001b[39;00m\n\u001b[1;32m--> 356\u001b[0m     \u001b[38;5;28mself\u001b[39m\u001b[38;5;241m.\u001b[39mexecute(Command\u001b[38;5;241m.\u001b[39mGET, {\u001b[38;5;124m\"\u001b[39m\u001b[38;5;124murl\u001b[39m\u001b[38;5;124m\"\u001b[39m: url})\n",
      "File \u001b[1;32m~\\anaconda3\\Lib\\site-packages\\selenium\\webdriver\\remote\\webdriver.py:345\u001b[0m, in \u001b[0;36mWebDriver.execute\u001b[1;34m(self, driver_command, params)\u001b[0m\n\u001b[0;32m    342\u001b[0m     \u001b[38;5;28;01melif\u001b[39;00m \u001b[38;5;124m\"\u001b[39m\u001b[38;5;124msessionId\u001b[39m\u001b[38;5;124m\"\u001b[39m \u001b[38;5;129;01mnot\u001b[39;00m \u001b[38;5;129;01min\u001b[39;00m params:\n\u001b[0;32m    343\u001b[0m         params[\u001b[38;5;124m\"\u001b[39m\u001b[38;5;124msessionId\u001b[39m\u001b[38;5;124m\"\u001b[39m] \u001b[38;5;241m=\u001b[39m \u001b[38;5;28mself\u001b[39m\u001b[38;5;241m.\u001b[39msession_id\n\u001b[1;32m--> 345\u001b[0m response \u001b[38;5;241m=\u001b[39m \u001b[38;5;28mself\u001b[39m\u001b[38;5;241m.\u001b[39mcommand_executor\u001b[38;5;241m.\u001b[39mexecute(driver_command, params)\n\u001b[0;32m    346\u001b[0m \u001b[38;5;28;01mif\u001b[39;00m response:\n\u001b[0;32m    347\u001b[0m     \u001b[38;5;28mself\u001b[39m\u001b[38;5;241m.\u001b[39merror_handler\u001b[38;5;241m.\u001b[39mcheck_response(response)\n",
      "File \u001b[1;32m~\\anaconda3\\Lib\\site-packages\\selenium\\webdriver\\remote\\remote_connection.py:302\u001b[0m, in \u001b[0;36mRemoteConnection.execute\u001b[1;34m(self, command, params)\u001b[0m\n\u001b[0;32m    300\u001b[0m trimmed \u001b[38;5;241m=\u001b[39m \u001b[38;5;28mself\u001b[39m\u001b[38;5;241m.\u001b[39m_trim_large_entries(params)\n\u001b[0;32m    301\u001b[0m LOGGER\u001b[38;5;241m.\u001b[39mdebug(\u001b[38;5;124m\"\u001b[39m\u001b[38;5;132;01m%s\u001b[39;00m\u001b[38;5;124m \u001b[39m\u001b[38;5;132;01m%s\u001b[39;00m\u001b[38;5;124m \u001b[39m\u001b[38;5;132;01m%s\u001b[39;00m\u001b[38;5;124m\"\u001b[39m, command_info[\u001b[38;5;241m0\u001b[39m], url, \u001b[38;5;28mstr\u001b[39m(trimmed))\n\u001b[1;32m--> 302\u001b[0m \u001b[38;5;28;01mreturn\u001b[39;00m \u001b[38;5;28mself\u001b[39m\u001b[38;5;241m.\u001b[39m_request(command_info[\u001b[38;5;241m0\u001b[39m], url, body\u001b[38;5;241m=\u001b[39mdata)\n",
      "File \u001b[1;32m~\\anaconda3\\Lib\\site-packages\\selenium\\webdriver\\remote\\remote_connection.py:322\u001b[0m, in \u001b[0;36mRemoteConnection._request\u001b[1;34m(self, method, url, body)\u001b[0m\n\u001b[0;32m    319\u001b[0m     body \u001b[38;5;241m=\u001b[39m \u001b[38;5;28;01mNone\u001b[39;00m\n\u001b[0;32m    321\u001b[0m \u001b[38;5;28;01mif\u001b[39;00m \u001b[38;5;28mself\u001b[39m\u001b[38;5;241m.\u001b[39mkeep_alive:\n\u001b[1;32m--> 322\u001b[0m     response \u001b[38;5;241m=\u001b[39m \u001b[38;5;28mself\u001b[39m\u001b[38;5;241m.\u001b[39m_conn\u001b[38;5;241m.\u001b[39mrequest(method, url, body\u001b[38;5;241m=\u001b[39mbody, headers\u001b[38;5;241m=\u001b[39mheaders)\n\u001b[0;32m    323\u001b[0m     statuscode \u001b[38;5;241m=\u001b[39m response\u001b[38;5;241m.\u001b[39mstatus\n\u001b[0;32m    324\u001b[0m \u001b[38;5;28;01melse\u001b[39;00m:\n",
      "File \u001b[1;32m~\\anaconda3\\Lib\\site-packages\\urllib3\\request.py:78\u001b[0m, in \u001b[0;36mRequestMethods.request\u001b[1;34m(self, method, url, fields, headers, **urlopen_kw)\u001b[0m\n\u001b[0;32m     74\u001b[0m     \u001b[38;5;28;01mreturn\u001b[39;00m \u001b[38;5;28mself\u001b[39m\u001b[38;5;241m.\u001b[39mrequest_encode_url(\n\u001b[0;32m     75\u001b[0m         method, url, fields\u001b[38;5;241m=\u001b[39mfields, headers\u001b[38;5;241m=\u001b[39mheaders, \u001b[38;5;241m*\u001b[39m\u001b[38;5;241m*\u001b[39murlopen_kw\n\u001b[0;32m     76\u001b[0m     )\n\u001b[0;32m     77\u001b[0m \u001b[38;5;28;01melse\u001b[39;00m:\n\u001b[1;32m---> 78\u001b[0m     \u001b[38;5;28;01mreturn\u001b[39;00m \u001b[38;5;28mself\u001b[39m\u001b[38;5;241m.\u001b[39mrequest_encode_body(\n\u001b[0;32m     79\u001b[0m         method, url, fields\u001b[38;5;241m=\u001b[39mfields, headers\u001b[38;5;241m=\u001b[39mheaders, \u001b[38;5;241m*\u001b[39m\u001b[38;5;241m*\u001b[39murlopen_kw\n\u001b[0;32m     80\u001b[0m     )\n",
      "File \u001b[1;32m~\\anaconda3\\Lib\\site-packages\\urllib3\\request.py:170\u001b[0m, in \u001b[0;36mRequestMethods.request_encode_body\u001b[1;34m(self, method, url, fields, headers, encode_multipart, multipart_boundary, **urlopen_kw)\u001b[0m\n\u001b[0;32m    167\u001b[0m extra_kw[\u001b[38;5;124m\"\u001b[39m\u001b[38;5;124mheaders\u001b[39m\u001b[38;5;124m\"\u001b[39m]\u001b[38;5;241m.\u001b[39mupdate(headers)\n\u001b[0;32m    168\u001b[0m extra_kw\u001b[38;5;241m.\u001b[39mupdate(urlopen_kw)\n\u001b[1;32m--> 170\u001b[0m \u001b[38;5;28;01mreturn\u001b[39;00m \u001b[38;5;28mself\u001b[39m\u001b[38;5;241m.\u001b[39murlopen(method, url, \u001b[38;5;241m*\u001b[39m\u001b[38;5;241m*\u001b[39mextra_kw)\n",
      "File \u001b[1;32m~\\anaconda3\\Lib\\site-packages\\urllib3\\poolmanager.py:376\u001b[0m, in \u001b[0;36mPoolManager.urlopen\u001b[1;34m(self, method, url, redirect, **kw)\u001b[0m\n\u001b[0;32m    374\u001b[0m     response \u001b[38;5;241m=\u001b[39m conn\u001b[38;5;241m.\u001b[39murlopen(method, url, \u001b[38;5;241m*\u001b[39m\u001b[38;5;241m*\u001b[39mkw)\n\u001b[0;32m    375\u001b[0m \u001b[38;5;28;01melse\u001b[39;00m:\n\u001b[1;32m--> 376\u001b[0m     response \u001b[38;5;241m=\u001b[39m conn\u001b[38;5;241m.\u001b[39murlopen(method, u\u001b[38;5;241m.\u001b[39mrequest_uri, \u001b[38;5;241m*\u001b[39m\u001b[38;5;241m*\u001b[39mkw)\n\u001b[0;32m    378\u001b[0m redirect_location \u001b[38;5;241m=\u001b[39m redirect \u001b[38;5;129;01mand\u001b[39;00m response\u001b[38;5;241m.\u001b[39mget_redirect_location()\n\u001b[0;32m    379\u001b[0m \u001b[38;5;28;01mif\u001b[39;00m \u001b[38;5;129;01mnot\u001b[39;00m redirect_location:\n",
      "File \u001b[1;32m~\\anaconda3\\Lib\\site-packages\\urllib3\\connectionpool.py:714\u001b[0m, in \u001b[0;36mHTTPConnectionPool.urlopen\u001b[1;34m(self, method, url, body, headers, retries, redirect, assert_same_host, timeout, pool_timeout, release_conn, chunked, body_pos, **response_kw)\u001b[0m\n\u001b[0;32m    711\u001b[0m     \u001b[38;5;28mself\u001b[39m\u001b[38;5;241m.\u001b[39m_prepare_proxy(conn)\n\u001b[0;32m    713\u001b[0m \u001b[38;5;66;03m# Make the request on the httplib connection object.\u001b[39;00m\n\u001b[1;32m--> 714\u001b[0m httplib_response \u001b[38;5;241m=\u001b[39m \u001b[38;5;28mself\u001b[39m\u001b[38;5;241m.\u001b[39m_make_request(\n\u001b[0;32m    715\u001b[0m     conn,\n\u001b[0;32m    716\u001b[0m     method,\n\u001b[0;32m    717\u001b[0m     url,\n\u001b[0;32m    718\u001b[0m     timeout\u001b[38;5;241m=\u001b[39mtimeout_obj,\n\u001b[0;32m    719\u001b[0m     body\u001b[38;5;241m=\u001b[39mbody,\n\u001b[0;32m    720\u001b[0m     headers\u001b[38;5;241m=\u001b[39mheaders,\n\u001b[0;32m    721\u001b[0m     chunked\u001b[38;5;241m=\u001b[39mchunked,\n\u001b[0;32m    722\u001b[0m )\n\u001b[0;32m    724\u001b[0m \u001b[38;5;66;03m# If we're going to release the connection in ``finally:``, then\u001b[39;00m\n\u001b[0;32m    725\u001b[0m \u001b[38;5;66;03m# the response doesn't need to know about the connection. Otherwise\u001b[39;00m\n\u001b[0;32m    726\u001b[0m \u001b[38;5;66;03m# it will also try to release it and we'll have a double-release\u001b[39;00m\n\u001b[0;32m    727\u001b[0m \u001b[38;5;66;03m# mess.\u001b[39;00m\n\u001b[0;32m    728\u001b[0m response_conn \u001b[38;5;241m=\u001b[39m conn \u001b[38;5;28;01mif\u001b[39;00m \u001b[38;5;129;01mnot\u001b[39;00m release_conn \u001b[38;5;28;01melse\u001b[39;00m \u001b[38;5;28;01mNone\u001b[39;00m\n",
      "File \u001b[1;32m~\\anaconda3\\Lib\\site-packages\\urllib3\\connectionpool.py:466\u001b[0m, in \u001b[0;36mHTTPConnectionPool._make_request\u001b[1;34m(self, conn, method, url, timeout, chunked, **httplib_request_kw)\u001b[0m\n\u001b[0;32m    461\u001b[0m             httplib_response \u001b[38;5;241m=\u001b[39m conn\u001b[38;5;241m.\u001b[39mgetresponse()\n\u001b[0;32m    462\u001b[0m         \u001b[38;5;28;01mexcept\u001b[39;00m \u001b[38;5;167;01mBaseException\u001b[39;00m \u001b[38;5;28;01mas\u001b[39;00m e:\n\u001b[0;32m    463\u001b[0m             \u001b[38;5;66;03m# Remove the TypeError from the exception chain in\u001b[39;00m\n\u001b[0;32m    464\u001b[0m             \u001b[38;5;66;03m# Python 3 (including for exceptions like SystemExit).\u001b[39;00m\n\u001b[0;32m    465\u001b[0m             \u001b[38;5;66;03m# Otherwise it looks like a bug in the code.\u001b[39;00m\n\u001b[1;32m--> 466\u001b[0m             six\u001b[38;5;241m.\u001b[39mraise_from(e, \u001b[38;5;28;01mNone\u001b[39;00m)\n\u001b[0;32m    467\u001b[0m \u001b[38;5;28;01mexcept\u001b[39;00m (SocketTimeout, BaseSSLError, SocketError) \u001b[38;5;28;01mas\u001b[39;00m e:\n\u001b[0;32m    468\u001b[0m     \u001b[38;5;28mself\u001b[39m\u001b[38;5;241m.\u001b[39m_raise_timeout(err\u001b[38;5;241m=\u001b[39me, url\u001b[38;5;241m=\u001b[39murl, timeout_value\u001b[38;5;241m=\u001b[39mread_timeout)\n",
      "File \u001b[1;32m<string>:3\u001b[0m, in \u001b[0;36mraise_from\u001b[1;34m(value, from_value)\u001b[0m\n",
      "File \u001b[1;32m~\\anaconda3\\Lib\\site-packages\\urllib3\\connectionpool.py:461\u001b[0m, in \u001b[0;36mHTTPConnectionPool._make_request\u001b[1;34m(self, conn, method, url, timeout, chunked, **httplib_request_kw)\u001b[0m\n\u001b[0;32m    458\u001b[0m \u001b[38;5;28;01mexcept\u001b[39;00m \u001b[38;5;167;01mTypeError\u001b[39;00m:\n\u001b[0;32m    459\u001b[0m     \u001b[38;5;66;03m# Python 3\u001b[39;00m\n\u001b[0;32m    460\u001b[0m     \u001b[38;5;28;01mtry\u001b[39;00m:\n\u001b[1;32m--> 461\u001b[0m         httplib_response \u001b[38;5;241m=\u001b[39m conn\u001b[38;5;241m.\u001b[39mgetresponse()\n\u001b[0;32m    462\u001b[0m     \u001b[38;5;28;01mexcept\u001b[39;00m \u001b[38;5;167;01mBaseException\u001b[39;00m \u001b[38;5;28;01mas\u001b[39;00m e:\n\u001b[0;32m    463\u001b[0m         \u001b[38;5;66;03m# Remove the TypeError from the exception chain in\u001b[39;00m\n\u001b[0;32m    464\u001b[0m         \u001b[38;5;66;03m# Python 3 (including for exceptions like SystemExit).\u001b[39;00m\n\u001b[0;32m    465\u001b[0m         \u001b[38;5;66;03m# Otherwise it looks like a bug in the code.\u001b[39;00m\n\u001b[0;32m    466\u001b[0m         six\u001b[38;5;241m.\u001b[39mraise_from(e, \u001b[38;5;28;01mNone\u001b[39;00m)\n",
      "File \u001b[1;32m~\\anaconda3\\Lib\\http\\client.py:1378\u001b[0m, in \u001b[0;36mHTTPConnection.getresponse\u001b[1;34m(self)\u001b[0m\n\u001b[0;32m   1376\u001b[0m \u001b[38;5;28;01mtry\u001b[39;00m:\n\u001b[0;32m   1377\u001b[0m     \u001b[38;5;28;01mtry\u001b[39;00m:\n\u001b[1;32m-> 1378\u001b[0m         response\u001b[38;5;241m.\u001b[39mbegin()\n\u001b[0;32m   1379\u001b[0m     \u001b[38;5;28;01mexcept\u001b[39;00m \u001b[38;5;167;01mConnectionError\u001b[39;00m:\n\u001b[0;32m   1380\u001b[0m         \u001b[38;5;28mself\u001b[39m\u001b[38;5;241m.\u001b[39mclose()\n",
      "File \u001b[1;32m~\\anaconda3\\Lib\\http\\client.py:318\u001b[0m, in \u001b[0;36mHTTPResponse.begin\u001b[1;34m(self)\u001b[0m\n\u001b[0;32m    316\u001b[0m \u001b[38;5;66;03m# read until we get a non-100 response\u001b[39;00m\n\u001b[0;32m    317\u001b[0m \u001b[38;5;28;01mwhile\u001b[39;00m \u001b[38;5;28;01mTrue\u001b[39;00m:\n\u001b[1;32m--> 318\u001b[0m     version, status, reason \u001b[38;5;241m=\u001b[39m \u001b[38;5;28mself\u001b[39m\u001b[38;5;241m.\u001b[39m_read_status()\n\u001b[0;32m    319\u001b[0m     \u001b[38;5;28;01mif\u001b[39;00m status \u001b[38;5;241m!=\u001b[39m CONTINUE:\n\u001b[0;32m    320\u001b[0m         \u001b[38;5;28;01mbreak\u001b[39;00m\n",
      "File \u001b[1;32m~\\anaconda3\\Lib\\http\\client.py:279\u001b[0m, in \u001b[0;36mHTTPResponse._read_status\u001b[1;34m(self)\u001b[0m\n\u001b[0;32m    278\u001b[0m \u001b[38;5;28;01mdef\u001b[39;00m \u001b[38;5;21m_read_status\u001b[39m(\u001b[38;5;28mself\u001b[39m):\n\u001b[1;32m--> 279\u001b[0m     line \u001b[38;5;241m=\u001b[39m \u001b[38;5;28mstr\u001b[39m(\u001b[38;5;28mself\u001b[39m\u001b[38;5;241m.\u001b[39mfp\u001b[38;5;241m.\u001b[39mreadline(_MAXLINE \u001b[38;5;241m+\u001b[39m \u001b[38;5;241m1\u001b[39m), \u001b[38;5;124m\"\u001b[39m\u001b[38;5;124miso-8859-1\u001b[39m\u001b[38;5;124m\"\u001b[39m)\n\u001b[0;32m    280\u001b[0m     \u001b[38;5;28;01mif\u001b[39;00m \u001b[38;5;28mlen\u001b[39m(line) \u001b[38;5;241m>\u001b[39m _MAXLINE:\n\u001b[0;32m    281\u001b[0m         \u001b[38;5;28;01mraise\u001b[39;00m LineTooLong(\u001b[38;5;124m\"\u001b[39m\u001b[38;5;124mstatus line\u001b[39m\u001b[38;5;124m\"\u001b[39m)\n",
      "File \u001b[1;32m~\\anaconda3\\Lib\\socket.py:706\u001b[0m, in \u001b[0;36mSocketIO.readinto\u001b[1;34m(self, b)\u001b[0m\n\u001b[0;32m    704\u001b[0m \u001b[38;5;28;01mwhile\u001b[39;00m \u001b[38;5;28;01mTrue\u001b[39;00m:\n\u001b[0;32m    705\u001b[0m     \u001b[38;5;28;01mtry\u001b[39;00m:\n\u001b[1;32m--> 706\u001b[0m         \u001b[38;5;28;01mreturn\u001b[39;00m \u001b[38;5;28mself\u001b[39m\u001b[38;5;241m.\u001b[39m_sock\u001b[38;5;241m.\u001b[39mrecv_into(b)\n\u001b[0;32m    707\u001b[0m     \u001b[38;5;28;01mexcept\u001b[39;00m timeout:\n\u001b[0;32m    708\u001b[0m         \u001b[38;5;28mself\u001b[39m\u001b[38;5;241m.\u001b[39m_timeout_occurred \u001b[38;5;241m=\u001b[39m \u001b[38;5;28;01mTrue\u001b[39;00m\n",
      "\u001b[1;31mKeyboardInterrupt\u001b[0m: "
     ]
    }
   ],
   "source": [
    "driver = wb.Chrome()\n",
    "driver.get('https://www.gmarket.co.kr/n/best')\n",
    "\n",
    "cate_lst = []\n",
    "title_lst = []\n",
    "price_lst = []\n",
    "for i in range(0,10) :\n",
    "    img = driver.find_elements(By.CLASS_NAME, 'image__lazy.image__load')\n",
    "    img[i].click()\n",
    "    cate = driver.find_element(By.CSS_SELECTOR, 'div.location-navi > ul > li.on > a').text\n",
    "    title = driver.find_element(By.CLASS_NAME, 'itemtit').text\n",
    "    price = driver.find_element(By.CLASS_NAME, 'price_real').text\n",
    "    cate_lst.append(cate)\n",
    "    title_lst.append(title)\n",
    "    price_lst.append(price)\n",
    "    driver.back()\n",
    "driver.quit()\n",
    "print(cate_lst)\n",
    "print(title_lst)\n",
    "print(price_lst)"
   ]
  },
  {
   "cell_type": "code",
   "execution_count": 42,
   "id": "3f7b481b",
   "metadata": {},
   "outputs": [],
   "source": [
    "dic = {'카테고리' : cate_lst, '상품명' : title_lst, '가격' : price_lst}"
   ]
  },
  {
   "cell_type": "code",
   "execution_count": 43,
   "id": "e3b9546e",
   "metadata": {},
   "outputs": [
    {
     "data": {
      "text/html": [
       "<div>\n",
       "<style scoped>\n",
       "    .dataframe tbody tr th:only-of-type {\n",
       "        vertical-align: middle;\n",
       "    }\n",
       "\n",
       "    .dataframe tbody tr th {\n",
       "        vertical-align: top;\n",
       "    }\n",
       "\n",
       "    .dataframe thead th {\n",
       "        text-align: right;\n",
       "    }\n",
       "</style>\n",
       "<table border=\"1\" class=\"dataframe\">\n",
       "  <thead>\n",
       "    <tr style=\"text-align: right;\">\n",
       "      <th></th>\n",
       "      <th>카테고리</th>\n",
       "      <th>상품명</th>\n",
       "      <th>가격</th>\n",
       "    </tr>\n",
       "  </thead>\n",
       "  <tbody>\n",
       "    <tr>\n",
       "      <th>1</th>\n",
       "      <td>라운드넥티셔츠</td>\n",
       "      <td>((단하루 10%+10%쿠폰)) 시크릿무드 역마진 파격SALE/바람막이/자켓/원피스...</td>\n",
       "      <td>9,900원</td>\n",
       "    </tr>\n",
       "    <tr>\n",
       "      <th>2</th>\n",
       "      <td>패밀리레스토랑</td>\n",
       "      <td>(빕스) 15 000원 스프링 바우처 / 3월 19일부터 사용가능</td>\n",
       "      <td>1,500원</td>\n",
       "    </tr>\n",
       "    <tr>\n",
       "      <th>3</th>\n",
       "      <td>바디케어</td>\n",
       "      <td>온더바디 발을씻자 코튼풋샴푸 자몽향 385ml 4개</td>\n",
       "      <td>19,900원</td>\n",
       "    </tr>\n",
       "    <tr>\n",
       "      <th>4</th>\n",
       "      <td>런닝세트</td>\n",
       "      <td>(무료반품/9950원/5매)트라이 스탠다드 베이직 남성 5번들 런닝 무료배송 (10...</td>\n",
       "      <td>11,700원</td>\n",
       "    </tr>\n",
       "    <tr>\n",
       "      <th>5</th>\n",
       "      <td>기타생활잡화</td>\n",
       "      <td>2개 헤드앤숄더 클리니컬 스트렝스 비듬방지 샴푸 3종 초록 보라 주황 400ml</td>\n",
       "      <td>30,570원</td>\n",
       "    </tr>\n",
       "    <tr>\n",
       "      <th>6</th>\n",
       "      <td>전복</td>\n",
       "      <td>더줌 전복 11-13미 1kg 쿠폰가 23700</td>\n",
       "      <td>39,500원</td>\n",
       "    </tr>\n",
       "    <tr>\n",
       "      <th>7</th>\n",
       "      <td>초등참고서</td>\n",
       "      <td>키즈 원리셈/ 원리셈 세트</td>\n",
       "      <td>41,310원</td>\n",
       "    </tr>\n",
       "    <tr>\n",
       "      <th>8</th>\n",
       "      <td>유아동티셔츠</td>\n",
       "      <td>10+5%쿠폰할인/24봄신상 신학기 한정수량 단독특가/가디건/상하복/원피스 외 1개...</td>\n",
       "      <td>10,900원</td>\n",
       "    </tr>\n",
       "    <tr>\n",
       "      <th>9</th>\n",
       "      <td>찌개/찜</td>\n",
       "      <td>G)사미헌 갈비탕5팩 (1팩1kg총 5kg)</td>\n",
       "      <td>56,550원</td>\n",
       "    </tr>\n",
       "    <tr>\n",
       "      <th>10</th>\n",
       "      <td>기타수산가공식품</td>\n",
       "      <td>착한낙지 매콤~칼칼 착한낙지 135g x 6팩+비법소스 6팩</td>\n",
       "      <td>23,920원</td>\n",
       "    </tr>\n",
       "  </tbody>\n",
       "</table>\n",
       "</div>"
      ],
      "text/plain": [
       "        카테고리                                                상품명       가격\n",
       "1    라운드넥티셔츠  ((단하루 10%+10%쿠폰)) 시크릿무드 역마진 파격SALE/바람막이/자켓/원피스...   9,900원\n",
       "2    패밀리레스토랑               (빕스) 15 000원 스프링 바우처 / 3월 19일부터 사용가능   1,500원\n",
       "3       바디케어                       온더바디 발을씻자 코튼풋샴푸 자몽향 385ml 4개  19,900원\n",
       "4       런닝세트  (무료반품/9950원/5매)트라이 스탠다드 베이직 남성 5번들 런닝 무료배송 (10...  11,700원\n",
       "5     기타생활잡화       2개 헤드앤숄더 클리니컬 스트렝스 비듬방지 샴푸 3종 초록 보라 주황 400ml  30,570원\n",
       "6         전복                         더줌 전복 11-13미 1kg 쿠폰가 23700  39,500원\n",
       "7      초등참고서                                     키즈 원리셈/ 원리셈 세트  41,310원\n",
       "8     유아동티셔츠  10+5%쿠폰할인/24봄신상 신학기 한정수량 단독특가/가디건/상하복/원피스 외 1개...  10,900원\n",
       "9       찌개/찜                           G)사미헌 갈비탕5팩 (1팩1kg총 5kg)  56,550원\n",
       "10  기타수산가공식품                  착한낙지 매콤~칼칼 착한낙지 135g x 6팩+비법소스 6팩  23,920원"
      ]
     },
     "execution_count": 43,
     "metadata": {},
     "output_type": "execute_result"
    }
   ],
   "source": [
    "gmarket = pd.DataFrame(dic, index = [1, 2, 3, 4, 5, 6, 7, 8, 9, 10])\n",
    "gmarket"
   ]
  },
  {
   "cell_type": "code",
   "execution_count": 46,
   "id": "eb179932",
   "metadata": {},
   "outputs": [
    {
     "name": "stdout",
     "output_type": "stream",
     "text": [
      "Collecting webdriver-manager\n",
      "  Obtaining dependency information for webdriver-manager from https://files.pythonhosted.org/packages/b1/51/b5c11cf739ac4eecde611794a0ec9df420d0239d51e73bc19eb44f02b48b/webdriver_manager-4.0.1-py2.py3-none-any.whl.metadata\n",
      "  Downloading webdriver_manager-4.0.1-py2.py3-none-any.whl.metadata (12 kB)\n",
      "Requirement already satisfied: requests in c:\\users\\smhrd\\anaconda3\\lib\\site-packages (from webdriver-manager) (2.31.0)\n",
      "Requirement already satisfied: python-dotenv in c:\\users\\smhrd\\anaconda3\\lib\\site-packages (from webdriver-manager) (0.21.0)\n",
      "Requirement already satisfied: packaging in c:\\users\\smhrd\\anaconda3\\lib\\site-packages (from webdriver-manager) (23.1)\n",
      "Requirement already satisfied: charset-normalizer<4,>=2 in c:\\users\\smhrd\\anaconda3\\lib\\site-packages (from requests->webdriver-manager) (2.0.4)\n",
      "Requirement already satisfied: idna<4,>=2.5 in c:\\users\\smhrd\\anaconda3\\lib\\site-packages (from requests->webdriver-manager) (3.4)\n",
      "Requirement already satisfied: urllib3<3,>=1.21.1 in c:\\users\\smhrd\\anaconda3\\lib\\site-packages (from requests->webdriver-manager) (1.26.16)\n",
      "Requirement already satisfied: certifi>=2017.4.17 in c:\\users\\smhrd\\anaconda3\\lib\\site-packages (from requests->webdriver-manager) (2023.7.22)\n",
      "Downloading webdriver_manager-4.0.1-py2.py3-none-any.whl (27 kB)\n",
      "Installing collected packages: webdriver-manager\n",
      "Successfully installed webdriver-manager-4.0.1\n"
     ]
    }
   ],
   "source": [
    "# 기존에 했던 크롬 드라이버 설치 하는 방법\n",
    "!pip install webdriver-manager"
   ]
  },
  {
   "cell_type": "code",
   "execution_count": 56,
   "id": "ed6b7a4c",
   "metadata": {},
   "outputs": [],
   "source": [
    "# 다른 PC(환경)에서도 코드를 실행할 수 있도록! (드라이버 설치 없이)\n",
    "from selenium.webdriver.chrome.service import Service   # 경로 반환\n",
    "from webdriver_manager.chrome import ChromeDriverManager # 크롬 드라이버 관리자\n",
    "\n",
    "import pandas as pd\n",
    "\n",
    "from selenium import webdriver as wb\n",
    "from selenium.webdriver.common.keys import Keys\n",
    "from selenium.webdriver.common.by import By\n",
    "\n",
    "from bs4 import BeautifulSoup as bs\n",
    "\n",
    "import time\n",
    "\n",
    "from tqdm import tqdm as tq # 반복문 시각화하는 도구"
   ]
  },
  {
   "cell_type": "code",
   "execution_count": 49,
   "id": "92d28de8",
   "metadata": {},
   "outputs": [],
   "source": [
    "# 선생님풀이\n",
    "# 1. 크롬 브라우저 실행, url 요청(G마켓 Best 상품 Page)\n",
    "s = Service(ChromeDriverManager().install())\n",
    "driver = wb.Chrome(service=s)\n",
    "driver.get('https://www.gmarket.co.kr/n/best')"
   ]
  },
  {
   "cell_type": "code",
   "execution_count": 51,
   "id": "e211eb8d",
   "metadata": {},
   "outputs": [],
   "source": [
    "# 2. 상품 클릭\n",
    "img = driver.find_elements(By.CLASS_NAME, 'image__lazy.image__load')\n",
    "img[0].click()"
   ]
  },
  {
   "cell_type": "code",
   "execution_count": 52,
   "id": "8356cb20",
   "metadata": {},
   "outputs": [
    {
     "data": {
      "text/plain": [
       "('라운드넥티셔츠',\n",
       " '((단하루 10%+10%쿠폰)) 시크릿무드 역마진 파격SALE/바람막이/자켓/원피스/니트/팬츠 외 미시룩BEST',\n",
       " '9,900원')"
      ]
     },
     "execution_count": 52,
     "metadata": {},
     "output_type": "execute_result"
    }
   ],
   "source": [
    "# 3. 수집(상품명, 가격, 카테고리) 및 추출\n",
    "cate = driver.find_element(By.CSS_SELECTOR, 'div.location-navi > ul > li.on > a').text\n",
    "title = driver.find_element(By.CLASS_NAME, 'itemtit').text\n",
    "price = driver.find_element(By.CLASS_NAME, 'price_real').text\n",
    "\n",
    "cate, title, price"
   ]
  },
  {
   "cell_type": "code",
   "execution_count": 53,
   "id": "dbcd02c2",
   "metadata": {},
   "outputs": [],
   "source": [
    "# 4. 뒤로가기\n",
    "driver.back()"
   ]
  },
  {
   "cell_type": "code",
   "execution_count": 58,
   "id": "489e987d",
   "metadata": {
    "scrolled": true
   },
   "outputs": [
    {
     "name": "stderr",
     "output_type": "stream",
     "text": [
      "100%|██████████████████████████████████████████████████████████████████████████████████| 50/50 [04:23<00:00,  5.27s/it]\n"
     ]
    }
   ],
   "source": [
    "# 5. 2~4 단계 반복\n",
    "driver = wb.Chrome(service=s)\n",
    "driver.get('https://www.gmarket.co.kr/n/best')\n",
    "cate_list = []\n",
    "title_list = []\n",
    "price_list = []\n",
    "\n",
    "for i in tq(range(50)) : \n",
    "    img = driver.find_elements(By.CLASS_NAME, 'image__lazy.image__load')\n",
    "    img[i].click()\n",
    "    \n",
    "    time.sleep(1)  # 요소가 load될 때까지 로직 멈추기!\n",
    "    \n",
    "    cate = driver.find_element(By.CSS_SELECTOR, 'div.location-navi > ul > li.on > a').text\n",
    "    title = driver.find_element(By.CLASS_NAME, 'itemtit').text\n",
    "    price = driver.find_element(By.CLASS_NAME, 'price_real').text\n",
    "    # 추출 후 list에 하나씩 쌓기!\n",
    "    cate_list.append(cate)\n",
    "    title_list.append(title)\n",
    "    price_list.append(price)\n",
    "    driver.back()\n",
    "    time.sleep(1)   # 요소가 load될 때까지 로직 멈추기!\n",
    "    \n",
    "# 자원 반납\n",
    "driver.quit()"
   ]
  },
  {
   "attachments": {
    "image.png": {
     "image/png": "[encoded data removed]"
    }
   },
   "cell_type": "markdown",
   "id": "098ec93b",
   "metadata": {},
   "source": [
    "- 10번 반복문 실행하다가 50번으로 늘렸을 때 \n",
    "![image.png](attachment:image.png)\n",
    "- 오류(날 수도 있음) => 페이지에서 아직 이미지 로딩 중인데 클릭하라고 하면 안됨"
   ]
  },
  {
   "attachments": {
    "image.png": {
     "image/png": "[encoded data removed]"
    }
   },
   "cell_type": "markdown",
   "id": "97c7f382",
   "metadata": {},
   "source": [
    "#### tqdm으로 반복문 시각화\n",
    "![image.png](attachment:image.png)\n",
    "진행율(%) \\n\n",
    "반복된 개수/ 총 해야하는 개수 [소요시간<남은 시간, 개당 몇초 걸리는지]"
   ]
  },
  {
   "cell_type": "code",
   "execution_count": 60,
   "id": "b224e9f1",
   "metadata": {},
   "outputs": [
    {
     "data": {
      "text/html": [
       "<div>\n",
       "<style scoped>\n",
       "    .dataframe tbody tr th:only-of-type {\n",
       "        vertical-align: middle;\n",
       "    }\n",
       "\n",
       "    .dataframe tbody tr th {\n",
       "        vertical-align: top;\n",
       "    }\n",
       "\n",
       "    .dataframe thead th {\n",
       "        text-align: right;\n",
       "    }\n",
       "</style>\n",
       "<table border=\"1\" class=\"dataframe\">\n",
       "  <thead>\n",
       "    <tr style=\"text-align: right;\">\n",
       "      <th></th>\n",
       "      <th>카테고리</th>\n",
       "      <th>상품명</th>\n",
       "      <th>가격</th>\n",
       "    </tr>\n",
       "  </thead>\n",
       "  <tbody>\n",
       "    <tr>\n",
       "      <th>0</th>\n",
       "      <td>라운드넥티셔츠</td>\n",
       "      <td>((단하루 10%+10%쿠폰)) 시크릿무드 역마진 파격SALE/바람막이/자켓/원피스...</td>\n",
       "      <td>9,900원</td>\n",
       "    </tr>\n",
       "    <tr>\n",
       "      <th>1</th>\n",
       "      <td>바디케어</td>\n",
       "      <td>온더바디 발을씻자 코튼풋샴푸 자몽향 385ml 4개</td>\n",
       "      <td>19,900원</td>\n",
       "    </tr>\n",
       "    <tr>\n",
       "      <th>2</th>\n",
       "      <td>패밀리레스토랑</td>\n",
       "      <td>(빕스) 15 000원 스프링 바우처 / 3월 19일부터 사용가능</td>\n",
       "      <td>1,500원</td>\n",
       "    </tr>\n",
       "    <tr>\n",
       "      <th>3</th>\n",
       "      <td>런닝세트</td>\n",
       "      <td>(무료반품/9950원/5매)트라이 스탠다드 베이직 남성 5번들 런닝 무료배송 (10...</td>\n",
       "      <td>11,700원</td>\n",
       "    </tr>\n",
       "    <tr>\n",
       "      <th>4</th>\n",
       "      <td>초등참고서</td>\n",
       "      <td>키즈 원리셈/ 원리셈 세트</td>\n",
       "      <td>41,310원</td>\n",
       "    </tr>\n",
       "    <tr>\n",
       "      <th>5</th>\n",
       "      <td>전복</td>\n",
       "      <td>더줌 전복 11-13미 1kg 쿠폰가 23700</td>\n",
       "      <td>39,500원</td>\n",
       "    </tr>\n",
       "    <tr>\n",
       "      <th>6</th>\n",
       "      <td>유아동상하복세트</td>\n",
       "      <td>키즈꼬모x저스틴23 봄맞이 신상 등원룩/나들이룩 상하복세트 초특가전</td>\n",
       "      <td>9,900원</td>\n",
       "    </tr>\n",
       "    <tr>\n",
       "      <th>7</th>\n",
       "      <td>유아동티셔츠</td>\n",
       "      <td>10+5%쿠폰할인/24봄신상 신학기 한정수량 단독특가/가디건/상하복/원피스 외 1개...</td>\n",
       "      <td>10,900원</td>\n",
       "    </tr>\n",
       "    <tr>\n",
       "      <th>8</th>\n",
       "      <td>기타수산가공식품</td>\n",
       "      <td>착한낙지 매콤~칼칼 착한낙지 135g x 6팩+비법소스 6팩</td>\n",
       "      <td>23,920원</td>\n",
       "    </tr>\n",
       "    <tr>\n",
       "      <th>9</th>\n",
       "      <td>기타생활잡화</td>\n",
       "      <td>2개 헤드앤숄더 클리니컬 스트렝스 비듬방지 샴푸 3종 초록 보라 주황 400ml</td>\n",
       "      <td>30,570원</td>\n",
       "    </tr>\n",
       "    <tr>\n",
       "      <th>10</th>\n",
       "      <td>찌개/찜</td>\n",
       "      <td>G)사미헌 갈비탕5팩 (1팩1kg총 5kg)</td>\n",
       "      <td>56,550원</td>\n",
       "    </tr>\n",
       "    <tr>\n",
       "      <th>11</th>\n",
       "      <td>면바지/밴딩팬츠</td>\n",
       "      <td>(10%+10%쿠폰) 3920원~봄신상BEST 와이드팬츠 빅사이즈~5XL 트레이닝/...</td>\n",
       "      <td>8,700원</td>\n",
       "    </tr>\n",
       "    <tr>\n",
       "      <th>12</th>\n",
       "      <td>물티슈</td>\n",
       "      <td>NEW 런칭 고평량 로얄 물티슈 75g 70매 캡 20팩</td>\n",
       "      <td>24,370원</td>\n",
       "    </tr>\n",
       "    <tr>\n",
       "      <th>13</th>\n",
       "      <td>유아동상하복세트</td>\n",
       "      <td>(신세계강남점)시원하고 부드러운 반팔 쿨티셔츠 + 우븐 5부팬츠 쿨 세트 BKS체키...</td>\n",
       "      <td>24,020원</td>\n",
       "    </tr>\n",
       "    <tr>\n",
       "      <th>14</th>\n",
       "      <td>유아동점퍼</td>\n",
       "      <td>(신세계본점)정상가 49000원 키즈 라글란 티셔츠 DKRL22031</td>\n",
       "      <td>24,800원</td>\n",
       "    </tr>\n",
       "    <tr>\n",
       "      <th>15</th>\n",
       "      <td>스포츠양말</td>\n",
       "      <td>쿠폰가4950원(개당1650원) 바쏘/PAT외 남성 캐주얼 정장 신사 골프 스포츠 ...</td>\n",
       "      <td>5,500원</td>\n",
       "    </tr>\n",
       "    <tr>\n",
       "      <th>16</th>\n",
       "      <td>화장지</td>\n",
       "      <td>오늘 천연펄프 3겹 30M 30롤 3개 화장지 휴지 롤휴지</td>\n",
       "      <td>34,900원</td>\n",
       "    </tr>\n",
       "    <tr>\n",
       "      <th>17</th>\n",
       "      <td>어린이/청소년</td>\n",
       "      <td>웅진/ 재미만만 한국사 세트(전20권)</td>\n",
       "      <td>168,000원</td>\n",
       "    </tr>\n",
       "    <tr>\n",
       "      <th>18</th>\n",
       "      <td>유아</td>\n",
       "      <td>핑키밍키_시지각훈련프로그램 세트 선택구매</td>\n",
       "      <td>56,700원</td>\n",
       "    </tr>\n",
       "    <tr>\n",
       "      <th>19</th>\n",
       "      <td>유아손세정제</td>\n",
       "      <td>쿠폰가 10900원) 아이깨끗해 2250ml 스페셜 에디션 릴리/화이트 450ml ...</td>\n",
       "      <td>12,820원</td>\n",
       "    </tr>\n",
       "    <tr>\n",
       "      <th>20</th>\n",
       "      <td>트레이닝하의</td>\n",
       "      <td>((10+5%쿠폰 오늘만 역마진SALE)) 데이뮤즈 봄신상 트위드자켓/트렌치코트/자...</td>\n",
       "      <td>12,900원</td>\n",
       "    </tr>\n",
       "    <tr>\n",
       "      <th>21</th>\n",
       "      <td>우유</td>\n",
       "      <td>멸균우유 1000ml x 10입 (1박스)</td>\n",
       "      <td>20,000원</td>\n",
       "    </tr>\n",
       "    <tr>\n",
       "      <th>22</th>\n",
       "      <td>유아</td>\n",
       "      <td>(EBS미디어) 한글용사 아이야 기본음절+받침글자+복잡한자음+모음세트 전10권</td>\n",
       "      <td>63,000원</td>\n",
       "    </tr>\n",
       "    <tr>\n",
       "      <th>23</th>\n",
       "      <td>전집/세트</td>\n",
       "      <td>핫딜특가) 잠자리동화 으스스 몬스터 시리즈 5권 세트 베드타임스토리/육퇴효자템</td>\n",
       "      <td>19,800원</td>\n",
       "    </tr>\n",
       "    <tr>\n",
       "      <th>24</th>\n",
       "      <td>기타게임/퍼즐</td>\n",
       "      <td>인기게임212종모음 루미큐브 할리갈리 러시아워 카탄</td>\n",
       "      <td>27,000원</td>\n",
       "    </tr>\n",
       "    <tr>\n",
       "      <th>25</th>\n",
       "      <td>치약</td>\n",
       "      <td>쿠폰적용가 39980원덴티스테 뉴 플러스화이트 200g x 4개 + 신제품 안티캐비...</td>\n",
       "      <td>44,980원</td>\n",
       "    </tr>\n",
       "    <tr>\n",
       "      <th>26</th>\n",
       "      <td>라운드넥티셔츠</td>\n",
       "      <td>다바걸 10%+5%단독쿠폰 24SS 최신상 티셔츠/트위드/자켓/슬랙스/자체제작/셔츠...</td>\n",
       "      <td>18,000원</td>\n",
       "    </tr>\n",
       "    <tr>\n",
       "      <th>27</th>\n",
       "      <td>맨투맨/후드티셔츠</td>\n",
       "      <td>NFL 봄 SALE FESTA 맨투맨/티셔츠/팬츠 BEST 단하루 특가전</td>\n",
       "      <td>22,040원</td>\n",
       "    </tr>\n",
       "    <tr>\n",
       "      <th>28</th>\n",
       "      <td>기타헤어케어용품</td>\n",
       "      <td>닥터시드 대용량 샴푸/트리트먼트/바디워시/탈모샴푸 1000ml 1+1개/기프티콘+사...</td>\n",
       "      <td>23,000원</td>\n",
       "    </tr>\n",
       "    <tr>\n",
       "      <th>29</th>\n",
       "      <td>칫솔</td>\n",
       "      <td>부광 얇은헤드 칫솔 초극세모 12입 X 3세트</td>\n",
       "      <td>16,900원</td>\n",
       "    </tr>\n",
       "    <tr>\n",
       "      <th>30</th>\n",
       "      <td>청바지</td>\n",
       "      <td>BNX/머스트비外 봄 오픈 특가 신상부터 BEST까지 최대90%할인</td>\n",
       "      <td>21,000원</td>\n",
       "    </tr>\n",
       "    <tr>\n",
       "      <th>31</th>\n",
       "      <td>유아</td>\n",
       "      <td>(특가) 스마일북스 베스트 차일드애플 1 2 : 옵션선택 유아 창작동화 그림책 베스트셀러</td>\n",
       "      <td>34,560원</td>\n",
       "    </tr>\n",
       "    <tr>\n",
       "      <th>32</th>\n",
       "      <td>고구마</td>\n",
       "      <td>(15%+10%즉할)꿀고구마 해남 황토 대사이즈 3kg 내외 맛젤 튀김용 2023년 수확</td>\n",
       "      <td>11,700원</td>\n",
       "    </tr>\n",
       "    <tr>\n",
       "      <th>33</th>\n",
       "      <td>우유</td>\n",
       "      <td>멸균우유 200ml 24입+24입 (2박스)</td>\n",
       "      <td>27,780원</td>\n",
       "    </tr>\n",
       "    <tr>\n",
       "      <th>34</th>\n",
       "      <td>라운드넥반팔티</td>\n",
       "      <td>15+12% 1+1+1 디커버스 프린팅/무지티 3장세트 장 당 5천원대 반팔티/무지...</td>\n",
       "      <td>21,800원</td>\n",
       "    </tr>\n",
       "    <tr>\n",
       "      <th>35</th>\n",
       "      <td>라운드넥티셔츠</td>\n",
       "      <td>20+5%쿠폰 단독특가 루나샵 주문폭주 봄신상/맨투맨/티셔츠/빅사이즈/오버핏/니트</td>\n",
       "      <td>15,900원</td>\n",
       "    </tr>\n",
       "    <tr>\n",
       "      <th>36</th>\n",
       "      <td>메가박스</td>\n",
       "      <td>(유니버스클럽 전용 쿠폰적용가 5천원) 메가박스 일반예매권 2D-주중/주말</td>\n",
       "      <td>15,000원</td>\n",
       "    </tr>\n",
       "    <tr>\n",
       "      <th>37</th>\n",
       "      <td>물티슈</td>\n",
       "      <td>베베숲 시그니처 블루 에코 휴대 20매 캡 12팩 75gsm 생분해원단/레이온 100%</td>\n",
       "      <td>13,110원</td>\n",
       "    </tr>\n",
       "    <tr>\n",
       "      <th>38</th>\n",
       "      <td>우유</td>\n",
       "      <td>멸균우유 200ml x 24입 (1박스)</td>\n",
       "      <td>16,900원</td>\n",
       "    </tr>\n",
       "    <tr>\n",
       "      <th>39</th>\n",
       "      <td>립밤/립케어</td>\n",
       "      <td>유리아쥬 스틱레브르 오리지널 4g 2개SET 오늘까지 앵콜특가</td>\n",
       "      <td>16,000원</td>\n",
       "    </tr>\n",
       "    <tr>\n",
       "      <th>40</th>\n",
       "      <td>셔츠/남방</td>\n",
       "      <td>15%쿠폰 에잇세컨즈와 함께하는 따뜻한 봄 옷장 준비 자켓/팬츠外</td>\n",
       "      <td>12,900원</td>\n",
       "    </tr>\n",
       "    <tr>\n",
       "      <th>41</th>\n",
       "      <td>유아세제</td>\n",
       "      <td>1+1/2set구매시무배) 비앤비 프리미엄 세탁세제 / 알러지케어 유연제/ 2set...</td>\n",
       "      <td>6,000원</td>\n",
       "    </tr>\n",
       "    <tr>\n",
       "      <th>42</th>\n",
       "      <td>우유</td>\n",
       "      <td>파스퇴르 무항생제 바른목장우유 190mL48팩</td>\n",
       "      <td>34,900원</td>\n",
       "    </tr>\n",
       "    <tr>\n",
       "      <th>43</th>\n",
       "      <td>라운드넥니트</td>\n",
       "      <td>(20%+5%쿠폰) 홈쇼핑BEST 봄신상+55~99 빅사이즈 대박SALE 80종 택...</td>\n",
       "      <td>9,900원</td>\n",
       "    </tr>\n",
       "    <tr>\n",
       "      <th>44</th>\n",
       "      <td>탄산/기능성음료</td>\n",
       "      <td>코카콜라 190ml x 60CAN</td>\n",
       "      <td>43,800원</td>\n",
       "    </tr>\n",
       "    <tr>\n",
       "      <th>45</th>\n",
       "      <td>유아동상하복세트</td>\n",
       "      <td>바브키즈 최대 15% 쿠폰 봄상품 출시 상하복 모음</td>\n",
       "      <td>12,900원</td>\n",
       "    </tr>\n",
       "    <tr>\n",
       "      <th>46</th>\n",
       "      <td>면/마/린넨원피스</td>\n",
       "      <td>(5+10%쿠폰가9180원~)핫핑/빅사이즈/44~110/봄신상BEST/자켓/트렌치/...</td>\n",
       "      <td>19,300원</td>\n",
       "    </tr>\n",
       "    <tr>\n",
       "      <th>47</th>\n",
       "      <td>과일</td>\n",
       "      <td>(20%+NH카드10%즉할)빨간 사과 햇 부사 한입사과 2.5KG (12-18과) ...</td>\n",
       "      <td>16,880원</td>\n",
       "    </tr>\n",
       "    <tr>\n",
       "      <th>48</th>\n",
       "      <td>유아</td>\n",
       "      <td>꼬마대통령 - 개구쟁이 특공대 (전13권)</td>\n",
       "      <td>69,420원</td>\n",
       "    </tr>\n",
       "    <tr>\n",
       "      <th>49</th>\n",
       "      <td>초등참고서</td>\n",
       "      <td>하루한장 초등 시리즈 골라담기 예비초등 국어 수학 한자 한국사</td>\n",
       "      <td>14,000원</td>\n",
       "    </tr>\n",
       "  </tbody>\n",
       "</table>\n",
       "</div>"
      ],
      "text/plain": [
       "         카테고리                                                상품명        가격\n",
       "0     라운드넥티셔츠  ((단하루 10%+10%쿠폰)) 시크릿무드 역마진 파격SALE/바람막이/자켓/원피스...    9,900원\n",
       "1        바디케어                       온더바디 발을씻자 코튼풋샴푸 자몽향 385ml 4개   19,900원\n",
       "2     패밀리레스토랑               (빕스) 15 000원 스프링 바우처 / 3월 19일부터 사용가능    1,500원\n",
       "3        런닝세트  (무료반품/9950원/5매)트라이 스탠다드 베이직 남성 5번들 런닝 무료배송 (10...   11,700원\n",
       "4       초등참고서                                     키즈 원리셈/ 원리셈 세트   41,310원\n",
       "5          전복                         더줌 전복 11-13미 1kg 쿠폰가 23700   39,500원\n",
       "6    유아동상하복세트              키즈꼬모x저스틴23 봄맞이 신상 등원룩/나들이룩 상하복세트 초특가전    9,900원\n",
       "7      유아동티셔츠  10+5%쿠폰할인/24봄신상 신학기 한정수량 단독특가/가디건/상하복/원피스 외 1개...   10,900원\n",
       "8    기타수산가공식품                  착한낙지 매콤~칼칼 착한낙지 135g x 6팩+비법소스 6팩   23,920원\n",
       "9      기타생활잡화       2개 헤드앤숄더 클리니컬 스트렝스 비듬방지 샴푸 3종 초록 보라 주황 400ml   30,570원\n",
       "10       찌개/찜                           G)사미헌 갈비탕5팩 (1팩1kg총 5kg)   56,550원\n",
       "11   면바지/밴딩팬츠  (10%+10%쿠폰) 3920원~봄신상BEST 와이드팬츠 빅사이즈~5XL 트레이닝/...    8,700원\n",
       "12        물티슈                    NEW 런칭 고평량 로얄 물티슈 75g 70매 캡 20팩   24,370원\n",
       "13   유아동상하복세트  (신세계강남점)시원하고 부드러운 반팔 쿨티셔츠 + 우븐 5부팬츠 쿨 세트 BKS체키...   24,020원\n",
       "14      유아동점퍼             (신세계본점)정상가 49000원 키즈 라글란 티셔츠 DKRL22031   24,800원\n",
       "15      스포츠양말  쿠폰가4950원(개당1650원) 바쏘/PAT외 남성 캐주얼 정장 신사 골프 스포츠 ...    5,500원\n",
       "16        화장지                   오늘 천연펄프 3겹 30M 30롤 3개 화장지 휴지 롤휴지   34,900원\n",
       "17    어린이/청소년                              웅진/ 재미만만 한국사 세트(전20권)  168,000원\n",
       "18         유아                             핑키밍키_시지각훈련프로그램 세트 선택구매   56,700원\n",
       "19     유아손세정제  쿠폰가 10900원) 아이깨끗해 2250ml 스페셜 에디션 릴리/화이트 450ml ...   12,820원\n",
       "20     트레이닝하의  ((10+5%쿠폰 오늘만 역마진SALE)) 데이뮤즈 봄신상 트위드자켓/트렌치코트/자...   12,900원\n",
       "21         우유                            멸균우유 1000ml x 10입 (1박스)   20,000원\n",
       "22         유아        (EBS미디어) 한글용사 아이야 기본음절+받침글자+복잡한자음+모음세트 전10권   63,000원\n",
       "23      전집/세트        핫딜특가) 잠자리동화 으스스 몬스터 시리즈 5권 세트 베드타임스토리/육퇴효자템   19,800원\n",
       "24    기타게임/퍼즐                       인기게임212종모음 루미큐브 할리갈리 러시아워 카탄   27,000원\n",
       "25         치약  쿠폰적용가 39980원덴티스테 뉴 플러스화이트 200g x 4개 + 신제품 안티캐비...   44,980원\n",
       "26    라운드넥티셔츠  다바걸 10%+5%단독쿠폰 24SS 최신상 티셔츠/트위드/자켓/슬랙스/자체제작/셔츠...   18,000원\n",
       "27  맨투맨/후드티셔츠           NFL 봄 SALE FESTA 맨투맨/티셔츠/팬츠 BEST 단하루 특가전   22,040원\n",
       "28   기타헤어케어용품  닥터시드 대용량 샴푸/트리트먼트/바디워시/탈모샴푸 1000ml 1+1개/기프티콘+사...   23,000원\n",
       "29         칫솔                          부광 얇은헤드 칫솔 초극세모 12입 X 3세트   16,900원\n",
       "30        청바지              BNX/머스트비外 봄 오픈 특가 신상부터 BEST까지 최대90%할인   21,000원\n",
       "31         유아  (특가) 스마일북스 베스트 차일드애플 1 2 : 옵션선택 유아 창작동화 그림책 베스트셀러   34,560원\n",
       "32        고구마  (15%+10%즉할)꿀고구마 해남 황토 대사이즈 3kg 내외 맛젤 튀김용 2023년 수확   11,700원\n",
       "33         우유                           멸균우유 200ml 24입+24입 (2박스)   27,780원\n",
       "34    라운드넥반팔티  15+12% 1+1+1 디커버스 프린팅/무지티 3장세트 장 당 5천원대 반팔티/무지...   21,800원\n",
       "35    라운드넥티셔츠      20+5%쿠폰 단독특가 루나샵 주문폭주 봄신상/맨투맨/티셔츠/빅사이즈/오버핏/니트   15,900원\n",
       "36       메가박스          (유니버스클럽 전용 쿠폰적용가 5천원) 메가박스 일반예매권 2D-주중/주말   15,000원\n",
       "37        물티슈   베베숲 시그니처 블루 에코 휴대 20매 캡 12팩 75gsm 생분해원단/레이온 100%   13,110원\n",
       "38         우유                             멸균우유 200ml x 24입 (1박스)   16,900원\n",
       "39     립밤/립케어                 유리아쥬 스틱레브르 오리지널 4g 2개SET 오늘까지 앵콜특가   16,000원\n",
       "40      셔츠/남방               15%쿠폰 에잇세컨즈와 함께하는 따뜻한 봄 옷장 준비 자켓/팬츠外   12,900원\n",
       "41       유아세제  1+1/2set구매시무배) 비앤비 프리미엄 세탁세제 / 알러지케어 유연제/ 2set...    6,000원\n",
       "42         우유                          파스퇴르 무항생제 바른목장우유 190mL48팩   34,900원\n",
       "43     라운드넥니트  (20%+5%쿠폰) 홈쇼핑BEST 봄신상+55~99 빅사이즈 대박SALE 80종 택...    9,900원\n",
       "44   탄산/기능성음료                                 코카콜라 190ml x 60CAN   43,800원\n",
       "45   유아동상하복세트                       바브키즈 최대 15% 쿠폰 봄상품 출시 상하복 모음   12,900원\n",
       "46  면/마/린넨원피스  (5+10%쿠폰가9180원~)핫핑/빅사이즈/44~110/봄신상BEST/자켓/트렌치/...   19,300원\n",
       "47         과일  (20%+NH카드10%즉할)빨간 사과 햇 부사 한입사과 2.5KG (12-18과) ...   16,880원\n",
       "48         유아                            꼬마대통령 - 개구쟁이 특공대 (전13권)   69,420원\n",
       "49      초등참고서                 하루한장 초등 시리즈 골라담기 예비초등 국어 수학 한자 한국사   14,000원"
      ]
     },
     "execution_count": 60,
     "metadata": {},
     "output_type": "execute_result"
    }
   ],
   "source": [
    "# 6. DataFrame화\n",
    "dic = {'카테고리' : cate_list, \n",
    "       '상품명' : title_list, \n",
    "       '가격' : price_list}\n",
    "df = pd.DataFrame(dic)\n",
    "df"
   ]
  },
  {
   "cell_type": "code",
   "execution_count": 64,
   "id": "6e63a3e9",
   "metadata": {},
   "outputs": [],
   "source": [
    "# csv 형식으로 저장!\n",
    "# time.strftime('%Y%m%d_%H%M%S') : 현재 시점을 기준으로 연도, 월, 일, 시, 분, 초를 문자열로 반환!\n",
    "df.to_csv(f'{time.strftime(\"%Y%m%d_%H%M%S\")} G마켓 Bestsell Top 50.csv',\n",
    "         encoding='utf-8')\n",
    "# jupyter에서 확인하고 싶으면 인코딩을 utf-8 로 해야함!"
   ]
  },
  {
   "cell_type": "code",
   "execution_count": 63,
   "id": "51a9342b",
   "metadata": {},
   "outputs": [
    {
     "data": {
      "text/plain": [
       "'20240319_154621'"
      ]
     },
     "execution_count": 63,
     "metadata": {},
     "output_type": "execute_result"
    }
   ],
   "source": [
    "time.strftime(\"%Y%m%d_%H%M%S\")"
   ]
  }
 ],
 "metadata": {
  "kernelspec": {
   "display_name": "Python 3 (ipykernel)",
   "language": "python",
   "name": "python3"
  },
  "language_info": {
   "codemirror_mode": {
    "name": "ipython",
    "version": 3
   },
   "file_extension": ".py",
   "mimetype": "text/x-python",
   "name": "python",
   "nbconvert_exporter": "python",
   "pygments_lexer": "ipython3",
   "version": "3.11.5"
  }
 },
 "nbformat": 4,
 "nbformat_minor": 5
}
