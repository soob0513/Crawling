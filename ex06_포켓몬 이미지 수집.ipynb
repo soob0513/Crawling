{
 "cells": [
  {
   "cell_type": "markdown",
   "id": "4a114ec7",
   "metadata": {},
   "source": [
    "##### 포켓몬 이미지 데이터 수집\n",
    "- 이미지 다운받아 폴더에 저장\n",
    "- 폴더 생성 자동화"
   ]
  },
  {
   "cell_type": "code",
   "execution_count": 91,
   "id": "1eb7fd6c",
   "metadata": {},
   "outputs": [],
   "source": [
    "# 폴더나 파일 생성 라이브러리\n",
    "import os"
   ]
  },
  {
   "cell_type": "markdown",
   "id": "f235e8f4",
   "metadata": {},
   "source": [
    "```python\n",
    "# os.mkdir(\"경로 및 폴더명\")\n",
    "# 문자열 안에서 \\는 이스케이프 코드! \n",
    "# C:\\Users\\SMHRD\\Desktop 에서 \\앞에 \\을 하나 더 적어줘야함\n",
    "os.mkdir('C:\\\\Users\\\\SMHRD\\\\Desktop\\\\포켓몬')\n",
    "\n",
    "# 경로 작성 시 이스케이프코드로 인식되지 않게끔 주의!\n",
    "```"
   ]
  },
  {
   "cell_type": "code",
   "execution_count": 92,
   "id": "bd14447c",
   "metadata": {},
   "outputs": [
    {
     "data": {
      "text/plain": [
       "True"
      ]
     },
     "execution_count": 92,
     "metadata": {},
     "output_type": "execute_result"
    }
   ],
   "source": [
    "# os.path.isdir('경로 및 폴더명') : 해당 경로에 폴더가 있는지 확인 -> True / False\n",
    "os.path.isdir('C:\\\\Users\\\\SMHRD\\\\Desktop\\\\포켓몬')"
   ]
  },
  {
   "cell_type": "code",
   "execution_count": 93,
   "id": "827c1ea6",
   "metadata": {},
   "outputs": [
    {
     "name": "stdout",
     "output_type": "stream",
     "text": [
      "폴더가 이미 존재합니다.\n"
     ]
    }
   ],
   "source": [
    "if not os.path.isdir('C:\\\\Users\\\\SMHRD\\\\Desktop\\\\포켓몬') : \n",
    "    # 해당 경로에 폴더가 없는 경우\n",
    "    os.mkdir('C:\\\\Users\\\\SMHRD\\\\Desktop\\\\포켓몬')\n",
    "    print('폴더 생성 완료!')\n",
    "else : \n",
    "    # 해당 경로에 폴더가 있는 경우\n",
    "    print('폴더가 이미 존재합니다.')"
   ]
  },
  {
   "cell_type": "code",
   "execution_count": 94,
   "id": "5e6a277f",
   "metadata": {},
   "outputs": [],
   "source": [
    "from selenium.webdriver.chrome.service import Service\n",
    "from webdriver_manager.chrome import ChromeDriverManager\n",
    "\n",
    "from selenium import webdriver as wb\n",
    "from selenium.webdriver.common.keys import Keys\n",
    "from selenium.webdriver.common.by import By\n",
    "\n",
    "from bs4 import BeautifulSoup as bs\n",
    "\n",
    "from tqdm import tqdm as tq\n",
    "import time"
   ]
  },
  {
   "cell_type": "code",
   "execution_count": 95,
   "id": "5bf10546",
   "metadata": {},
   "outputs": [],
   "source": [
    "s = Service(ChromeDriverManager().install())\n",
    "driver = wb.Chrome(service = s)\n",
    "\n",
    "driver.get('https://www.pokemonkorea.co.kr/pokedex#pokedex_1')"
   ]
  },
  {
   "cell_type": "code",
   "execution_count": 96,
   "id": "e9c74417",
   "metadata": {},
   "outputs": [],
   "source": [
    "# parsing(객체화)\n",
    "soup = bs(driver.page_source, 'lxml')"
   ]
  },
  {
   "cell_type": "code",
   "execution_count": 97,
   "id": "469f734e",
   "metadata": {
    "scrolled": true
   },
   "outputs": [
    {
     "data": {
      "text/plain": [
       "18"
      ]
     },
     "execution_count": 97,
     "metadata": {},
     "output_type": "execute_result"
    }
   ],
   "source": [
    "# 이미지 요소 지정!\n",
    "img = soup.select('img.img-fluid')\n",
    "len(img)"
   ]
  },
  {
   "cell_type": "markdown",
   "id": "c479c24d",
   "metadata": {},
   "source": [
    "#### 단축키!\n",
    " - 셀 합치기 : Shift + 방향키눌러서 다중선택 + (shift누른 상태로)m\n",
    " - 셀 나누기 : 원하는 부분에 커서 눌러주고 Ctrl + Shift + '-'"
   ]
  },
  {
   "cell_type": "code",
   "execution_count": 98,
   "id": "4996d9ff",
   "metadata": {},
   "outputs": [
    {
     "data": {
      "text/plain": [
       "<selenium.webdriver.remote.webelement.WebElement (session=\"eaca1aadd0822a4f4a52bc2f5c4d908e\", element=\"f.EC010C3C9BFEB45FBC7A532540742328.d.B94AD296419605D14BD7DF3DB910323F.e.43\")>"
      ]
     },
     "execution_count": 98,
     "metadata": {},
     "output_type": "execute_result"
    }
   ],
   "source": [
    "# load 되어있지 않은 요소들 전부 load하기 위해서는 스크롤을 최하단으로 내려야 함!\n",
    "body = driver.find_element(By.TAG_NAME, 'body')\n",
    "body"
   ]
  },
  {
   "cell_type": "code",
   "execution_count": 99,
   "id": "fd0bd81c",
   "metadata": {},
   "outputs": [],
   "source": [
    "# 인터넷 창 최대화!\n",
    "driver.maximize_window()"
   ]
  },
  {
   "cell_type": "code",
   "execution_count": 11,
   "id": "55470238",
   "metadata": {},
   "outputs": [],
   "source": [
    "body.send_keys(Keys.END)"
   ]
  },
  {
   "cell_type": "code",
   "execution_count": 12,
   "id": "18808123",
   "metadata": {},
   "outputs": [
    {
     "data": {
      "text/plain": [
       "3579"
      ]
     },
     "execution_count": 12,
     "metadata": {},
     "output_type": "execute_result"
    }
   ],
   "source": [
    "# 페이지 길이 확인\n",
    "# execute_script() : script문 실행 함수\n",
    "# return document.body.scrollHeight : 페이지의 길이 반환(픽셀 단위)\n",
    "driver.execute_script(\"return document.body.scrollHeight\")"
   ]
  },
  {
   "cell_type": "code",
   "execution_count": 100,
   "id": "902840d7",
   "metadata": {},
   "outputs": [],
   "source": [
    "# 스크롤 끝까지 내리기! \n",
    "driver.maximize_window()\n",
    "\n",
    "# 기존 길이! (내리기 전 페이지 길이)\n",
    "old_height = driver.execute_script(\"return document.body.scrollHeight\")\n",
    "while True : \n",
    "    # body 요소 가져와서, 스크롤 하강!\n",
    "    body = driver.find_element(By.TAG_NAME, 'body')\n",
    "    body.send_keys(Keys.END)\n",
    "    \n",
    "    time.sleep(0.5)  # 요소가 load될 때까지 기다리기!\n",
    "    \n",
    "    # 신규 길이! (내리고 난 뒤 페이지 길이)\n",
    "    new_height = driver.execute_script(\"return document.body.scrollHeight\")\n",
    "    \n",
    "    if old_height == new_height :  # 길이가 같은 경우(스크롤 다 내림) 반복문 종료! \n",
    "        break\n",
    "        \n",
    "    # 기존 길이 업데이트! old_height 갱신\n",
    "    old_height = new_height   "
   ]
  },
  {
   "cell_type": "code",
   "execution_count": 101,
   "id": "3d9db16b",
   "metadata": {},
   "outputs": [
    {
     "data": {
      "text/plain": [
       "1252"
      ]
     },
     "execution_count": 101,
     "metadata": {},
     "output_type": "execute_result"
    }
   ],
   "source": [
    "# 1. 파싱해서 지정 -> 새로고침해도 출력값은 같음\n",
    "soup = bs(driver.page_source,'lxml')\n",
    "soup_img = soup.select('img.img-fluid')\n",
    "len(soup_img)"
   ]
  },
  {
   "cell_type": "code",
   "execution_count": 102,
   "id": "bef39fdc",
   "metadata": {},
   "outputs": [
    {
     "data": {
      "text/plain": [
       "1252"
      ]
     },
     "execution_count": 102,
     "metadata": {},
     "output_type": "execute_result"
    }
   ],
   "source": [
    "# 2. driver 자체에서 지정 -> 새로고침하면 출력값이 달라짐\n",
    "img = driver.find_elements(By.CSS_SELECTOR, 'img.img-fluid')\n",
    "len(img)"
   ]
  },
  {
   "cell_type": "code",
   "execution_count": 103,
   "id": "6d401efe",
   "metadata": {},
   "outputs": [
    {
     "data": {
      "text/plain": [
       "<selenium.webdriver.remote.webelement.WebElement (session=\"eaca1aadd0822a4f4a52bc2f5c4d908e\", element=\"f.EC010C3C9BFEB45FBC7A532540742328.d.B94AD296419605D14BD7DF3DB910323F.e.39\")>"
      ]
     },
     "execution_count": 103,
     "metadata": {},
     "output_type": "execute_result"
    }
   ],
   "source": [
    "img[0]"
   ]
  },
  {
   "cell_type": "code",
   "execution_count": 104,
   "id": "0b510858",
   "metadata": {},
   "outputs": [
    {
     "data": {
      "text/plain": [
       "'https://data1.pokemonkorea.co.kr/newdata/pokedex/mid/015301.png'"
      ]
     },
     "execution_count": 104,
     "metadata": {},
     "output_type": "execute_result"
    }
   ],
   "source": [
    "# 1. src 추출!\n",
    "soup_img[215]['src']"
   ]
  },
  {
   "cell_type": "code",
   "execution_count": 105,
   "id": "b3800652",
   "metadata": {},
   "outputs": [
    {
     "data": {
      "text/plain": [
       "'https://data1.pokemonkorea.co.kr/newdata/pokedex/mid/000101.png'"
      ]
     },
     "execution_count": 105,
     "metadata": {},
     "output_type": "execute_result"
    }
   ],
   "source": [
    "# 2. src 추출! \n",
    "img[0].get_attribute('src')"
   ]
  },
  {
   "cell_type": "code",
   "execution_count": 106,
   "id": "cc40d3d7",
   "metadata": {},
   "outputs": [],
   "source": [
    "# 해당 url을 기반으로 다운로드하는 도구!\n",
    "from urllib.request import urlretrieve"
   ]
  },
  {
   "cell_type": "code",
   "execution_count": 107,
   "id": "2f33796c",
   "metadata": {},
   "outputs": [
    {
     "data": {
      "text/plain": [
       "('C:\\\\Users\\\\SMHRD\\\\Desktop\\\\포켓몬\\\\포켓몬1.jpg',\n",
       " <http.client.HTTPMessage at 0x1ff9e4ee410>)"
      ]
     },
     "execution_count": 107,
     "metadata": {},
     "output_type": "execute_result"
    }
   ],
   "source": [
    "# urlretrieve(소스, '경로 및 파일명.jpg')\n",
    "urlretrieve(img[0].get_attribute('src'), 'C:\\\\Users\\\\SMHRD\\\\Desktop\\\\포켓몬\\\\포켓몬1.jpg')"
   ]
  },
  {
   "cell_type": "code",
   "execution_count": 23,
   "id": "c26a52e2",
   "metadata": {},
   "outputs": [],
   "source": [
    "for i in range(len(img)) : \n",
    "    urlretrieve(img[i].get_attribute('src'), f'C:\\\\Users\\\\SMHRD\\\\Desktop\\\\포켓몬\\\\포켓몬{i+1}.jpg')"
   ]
  },
  {
   "cell_type": "code",
   "execution_count": 58,
   "id": "3b7ae603",
   "metadata": {
    "scrolled": false
   },
   "outputs": [],
   "source": [
    "soup = bs(driver.page_source,'lxml')\n",
    "p_name = soup.select('div.bx-txt p')"
   ]
  },
  {
   "cell_type": "code",
   "execution_count": 63,
   "id": "b12acf8e",
   "metadata": {},
   "outputs": [
    {
     "data": {
      "text/plain": [
       "<p></p>"
      ]
     },
     "execution_count": 63,
     "metadata": {},
     "output_type": "execute_result"
    }
   ],
   "source": [
    "# soup.select('div.bx-txt p')[7]\n",
    "# 이름 중복인데 모습이 다른애들 때문에 추출이 안됨..."
   ]
  },
  {
   "cell_type": "code",
   "execution_count": 59,
   "id": "0ef39e31",
   "metadata": {},
   "outputs": [
    {
     "data": {
      "text/plain": [
       "'No.0001'"
      ]
     },
     "execution_count": 59,
     "metadata": {},
     "output_type": "execute_result"
    }
   ],
   "source": [
    "r1 = p_name[0].text.replace('\\n', ' ')\n",
    "r1.replace('\\t', '')"
   ]
  },
  {
   "cell_type": "markdown",
   "id": "95ff667d",
   "metadata": {},
   "source": [
    "```python\n",
    "p_name = soup.select('div.bx-txt p')\n",
    "for i in range(10) : \n",
    "    r1 = p_name[i].text.replace('\\n', '')\n",
    "    name = r1.replace('\\t','')\n",
    "    urlretrieve(img[i].get_attribute('src'), f'C:\\\\Users\\\\SMHRD\\\\Desktop\\\\포켓몬\\\\포켓몬{name}.jpg')\n",
    "```"
   ]
  },
  {
   "cell_type": "code",
   "execution_count": 64,
   "id": "162b109f",
   "metadata": {},
   "outputs": [
    {
     "name": "stdout",
     "output_type": "stream",
     "text": [
      "폴더가 이미 존재합니다.\n"
     ]
    }
   ],
   "source": [
    "# 이 한 셀만 실행해도 수집할 수 있도록 코드 작성!\n",
    "\n",
    "if not os.path.isdir('C:\\\\Users\\\\SMHRD\\\\Desktop\\\\포켓몬') : \n",
    "    # 해당 경로에 폴더가 없는 경우\n",
    "    os.mkdir('C:\\\\Users\\\\SMHRD\\\\Desktop\\\\포켓몬')\n",
    "    print('폴더 생성 완료!')\n",
    "else : \n",
    "    # 해당 경로에 폴더가 있는 경우\n",
    "    print('폴더가 이미 존재합니다.')\n",
    "\n",
    "s = Service(ChromeDriverManager().install())\n",
    "driver = wb.Chrome(service = s)\n",
    "\n",
    "driver.get('https://www.pokemonkorea.co.kr/pokedex#pokedex_1')\n",
    "\n",
    "# 스크롤 끝까지 내리기! \n",
    "driver.maximize_window()\n",
    "\n",
    "# 기존 길이! (내리기 전 페이지 길이)\n",
    "old_height = driver.execute_script(\"return document.body.scrollHeight\")\n",
    "while True : \n",
    "    # body 요소 가져와서, 스크롤 하강!\n",
    "    body = driver.find_element(By.TAG_NAME, 'body')\n",
    "    body.send_keys(Keys.END)\n",
    "    \n",
    "    time.sleep(0.5)  # 요소가 load될 때까지 기다리기!\n",
    "    \n",
    "    # 신규 길이! (내리고 난 뒤 페이지 길이)\n",
    "    new_height = driver.execute_script(\"return document.body.scrollHeight\")\n",
    "    \n",
    "    if old_height == new_height :  # 길이가 같은 경우(스크롤 다 내림) 반복문 종료! \n",
    "        break\n",
    "        \n",
    "    # 기존 길이 업데이트! old_height 갱신\n",
    "    old_height = new_height   \n",
    "\n",
    "soup = bs(driver.page_source,'lxml')\n",
    "soup_img = soup.select('img.img-fluid')\n",
    "\n",
    "for i in range(len(img)) : \n",
    "    urlretrieve(img[i].get_attribute('src'), f'C:\\\\Users\\\\SMHRD\\\\Desktop\\\\포켓몬\\\\포켓몬{i+1}.jpg')\n",
    "\n",
    "driver.quit()"
   ]
  },
  {
   "cell_type": "markdown",
   "id": "4e7479f2",
   "metadata": {},
   "source": [
    "###### 포켓몬 이름 수집해서 이름으로 이미지 저장하기"
   ]
  },
  {
   "cell_type": "code",
   "execution_count": 76,
   "id": "86ffc998",
   "metadata": {},
   "outputs": [
    {
     "data": {
      "text/plain": [
       "'No.0001\\n이상해씨'"
      ]
     },
     "execution_count": 76,
     "metadata": {},
     "output_type": "execute_result"
    }
   ],
   "source": [
    "no_name = driver.find_elements(By.CSS_SELECTOR,'div.bx-txt>h3')[0].text"
   ]
  },
  {
   "cell_type": "code",
   "execution_count": 84,
   "id": "d187e405",
   "metadata": {},
   "outputs": [
    {
     "data": {
      "text/plain": [
       "'거다이맥스의 모습'"
      ]
     },
     "execution_count": 84,
     "metadata": {},
     "output_type": "execute_result"
    }
   ],
   "source": [
    "form = driver.find_elements(By.CSS_SELECTOR,'div.bx-txt>p')[1024].text"
   ]
  },
  {
   "cell_type": "code",
   "execution_count": 111,
   "id": "3416e217",
   "metadata": {},
   "outputs": [
    {
     "ename": "FileNotFoundError",
     "evalue": "[Errno 2] No such file or directory: 'C:\\\\Users\\\\SMHRD\\\\Desktop\\\\포켓몬\\\\No.0128 켄타로스 팔데아의 모습 / 컴뱃종.jpg'",
     "output_type": "error",
     "traceback": [
      "\u001b[1;31m---------------------------------------------------------------------------\u001b[0m",
      "\u001b[1;31mFileNotFoundError\u001b[0m                         Traceback (most recent call last)",
      "Cell \u001b[1;32mIn[111], line 35\u001b[0m\n\u001b[0;32m     33\u001b[0m     no_name \u001b[38;5;241m=\u001b[39m no_name\u001b[38;5;241m.\u001b[39mreplace(\u001b[38;5;124m'\u001b[39m\u001b[38;5;130;01m\\n\u001b[39;00m\u001b[38;5;124m'\u001b[39m,\u001b[38;5;124m'\u001b[39m\u001b[38;5;124m \u001b[39m\u001b[38;5;124m'\u001b[39m)\n\u001b[0;32m     34\u001b[0m     form \u001b[38;5;241m=\u001b[39m driver\u001b[38;5;241m.\u001b[39mfind_elements(By\u001b[38;5;241m.\u001b[39mCSS_SELECTOR,\u001b[38;5;124m'\u001b[39m\u001b[38;5;124mdiv.bx-txt>p\u001b[39m\u001b[38;5;124m'\u001b[39m)[i]\u001b[38;5;241m.\u001b[39mtext\n\u001b[1;32m---> 35\u001b[0m     urlretrieve(img[i]\u001b[38;5;241m.\u001b[39mget_attribute(\u001b[38;5;124m'\u001b[39m\u001b[38;5;124msrc\u001b[39m\u001b[38;5;124m'\u001b[39m), \u001b[38;5;124mf\u001b[39m\u001b[38;5;124m'\u001b[39m\u001b[38;5;124mC:\u001b[39m\u001b[38;5;130;01m\\\\\u001b[39;00m\u001b[38;5;124mUsers\u001b[39m\u001b[38;5;130;01m\\\\\u001b[39;00m\u001b[38;5;124mSMHRD\u001b[39m\u001b[38;5;130;01m\\\\\u001b[39;00m\u001b[38;5;124mDesktop\u001b[39m\u001b[38;5;130;01m\\\\\u001b[39;00m\u001b[38;5;124m포켓몬\u001b[39m\u001b[38;5;130;01m\\\\\u001b[39;00m\u001b[38;5;132;01m{\u001b[39;00mno_name\u001b[38;5;132;01m}\u001b[39;00m\u001b[38;5;124m \u001b[39m\u001b[38;5;132;01m{\u001b[39;00mform\u001b[38;5;132;01m}\u001b[39;00m\u001b[38;5;124m.jpg\u001b[39m\u001b[38;5;124m'\u001b[39m)\n\u001b[0;32m     37\u001b[0m driver\u001b[38;5;241m.\u001b[39mquit()\n",
      "File \u001b[1;32m~\\anaconda3\\Lib\\urllib\\request.py:251\u001b[0m, in \u001b[0;36murlretrieve\u001b[1;34m(url, filename, reporthook, data)\u001b[0m\n\u001b[0;32m    249\u001b[0m \u001b[38;5;66;03m# Handle temporary file setup.\u001b[39;00m\n\u001b[0;32m    250\u001b[0m \u001b[38;5;28;01mif\u001b[39;00m filename:\n\u001b[1;32m--> 251\u001b[0m     tfp \u001b[38;5;241m=\u001b[39m \u001b[38;5;28mopen\u001b[39m(filename, \u001b[38;5;124m'\u001b[39m\u001b[38;5;124mwb\u001b[39m\u001b[38;5;124m'\u001b[39m)\n\u001b[0;32m    252\u001b[0m \u001b[38;5;28;01melse\u001b[39;00m:\n\u001b[0;32m    253\u001b[0m     tfp \u001b[38;5;241m=\u001b[39m tempfile\u001b[38;5;241m.\u001b[39mNamedTemporaryFile(delete\u001b[38;5;241m=\u001b[39m\u001b[38;5;28;01mFalse\u001b[39;00m)\n",
      "\u001b[1;31mFileNotFoundError\u001b[0m: [Errno 2] No such file or directory: 'C:\\\\Users\\\\SMHRD\\\\Desktop\\\\포켓몬\\\\No.0128 켄타로스 팔데아의 모습 / 컴뱃종.jpg'"
     ]
    }
   ],
   "source": [
    "s = Service(ChromeDriverManager().install())\n",
    "driver = wb.Chrome(service = s)\n",
    "driver.get('https://www.pokemonkorea.co.kr/pokedex#pokedex_1')\n",
    "\n",
    "# 스크롤 끝까지 내리기! \n",
    "driver.maximize_window()\n",
    "\n",
    "# 기존 길이! (내리기 전 페이지 길이)\n",
    "old_height = driver.execute_script(\"return document.body.scrollHeight\")\n",
    "while True : \n",
    "    # body 요소 가져와서, 스크롤 하강!\n",
    "    body = driver.find_element(By.TAG_NAME, 'body')\n",
    "    body.send_keys(Keys.END)\n",
    "    \n",
    "    time.sleep(0.5)  # 요소가 load될 때까지 기다리기!\n",
    "    \n",
    "    # 신규 길이! (내리고 난 뒤 페이지 길이)\n",
    "    new_height = driver.execute_script(\"return document.body.scrollHeight\")\n",
    "    \n",
    "    if old_height == new_height :  # 길이가 같은 경우(스크롤 다 내림) 반복문 종료! \n",
    "        break\n",
    "        \n",
    "    # 기존 길이 업데이트! old_height 갱신\n",
    "    old_height = new_height   \n",
    "\n",
    "soup = bs(driver.page_source,'lxml')\n",
    "soup_img = soup.select('img.img-fluid')\n",
    "\n",
    "img = driver.find_elements(By.CSS_SELECTOR, 'img.img-fluid')\n",
    "\n",
    "for i in range(len(img)) : \n",
    "    no_name = driver.find_elements(By.CSS_SELECTOR,'div.bx-txt>h3')[i].text\n",
    "    no_name = no_name.replace('\\n',' ')\n",
    "    form = driver.find_elements(By.CSS_SELECTOR,'div.bx-txt>p')[i].text\n",
    "    form = form.replace('/', ',')   # 폼 이름에 '/'가 들어가는데 /는 이름에 사용 불가\n",
    "    urlretrieve(img[i].get_attribute('src'), f'C:\\\\Users\\\\SMHRD\\\\Desktop\\\\포켓몬\\\\{no_name} {form}.jpg')\n",
    "    \n",
    "driver.quit()"
   ]
  },
  {
   "cell_type": "code",
   "execution_count": 114,
   "id": "46e92d0e",
   "metadata": {},
   "outputs": [],
   "source": [
    "for i in range(len(img)) : \n",
    "    no_name = driver.find_elements(By.CSS_SELECTOR,'div.bx-txt>h3')[i].text\n",
    "    no_name = no_name.replace('\\n',' ')\n",
    "    form = driver.find_elements(By.CSS_SELECTOR,'div.bx-txt>p')[i].text\n",
    "    form = form.replace('/', ',')\n",
    "    urlretrieve(img[i].get_attribute('src'), f'C:\\\\Users\\\\SMHRD\\\\Desktop\\\\포켓몬\\\\{no_name} {form}.jpg')\n",
    "    \n",
    "driver.quit()"
   ]
  }
 ],
 "metadata": {
  "kernelspec": {
   "display_name": "Python 3 (ipykernel)",
   "language": "python",
   "name": "python3"
  },
  "language_info": {
   "codemirror_mode": {
    "name": "ipython",
    "version": 3
   },
   "file_extension": ".py",
   "mimetype": "text/x-python",
   "name": "python",
   "nbconvert_exporter": "python",
   "pygments_lexer": "ipython3",
   "version": "3.11.5"
  }
 },
 "nbformat": 4,
 "nbformat_minor": 5
}
